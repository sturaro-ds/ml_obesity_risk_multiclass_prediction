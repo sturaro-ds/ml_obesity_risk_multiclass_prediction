{
 "cells": [
  {
   "cell_type": "markdown",
   "id": "c0304120",
   "metadata": {},
   "source": [
    "**Overview**\n",
    "\n",
    "The objective of this competition on Kaggle is to use various factors to predict the risk of obesity in individuals, which is related to cardiovascular diseases.\n",
    "\n",
    "I performed EDA, pre-processing and applied just one predictive model, Random Forest, with some hyperparameters to seek its best predictive performance.\n",
    "\n",
    "Random Forest is a supervised learning algorithm in Machine Learning, in short, it will create many decision trees, randomly, forming what we can visualize as a forest, and each tree will be used to define the final result, in a kind of voting.\n",
    "\n",
    "Reference:\n",
    "https://didatica.tech/o-que-e-e-como-funciona-o-algorithmo-randomforest/"
   ]
  },
  {
   "cell_type": "markdown",
   "id": "855790cf",
   "metadata": {
    "papermill": {
     "duration": 0.014781,
     "end_time": "2024-02-13T13:26:55.884769",
     "exception": false,
     "start_time": "2024-02-13T13:26:55.869988",
     "status": "completed"
    },
    "tags": []
   },
   "source": [
    "<div align='left'>\n",
    "    <img src=\"https://media.nutrition.org/wp-content/uploads/2017/08/nhs-cover_se.jpg\">\n",
    "</div>"
   ]
  },
  {
   "cell_type": "markdown",
   "id": "5ac0e06a",
   "metadata": {
    "papermill": {
     "duration": 0.014056,
     "end_time": "2024-02-13T13:26:55.914035",
     "exception": false,
     "start_time": "2024-02-13T13:26:55.899979",
     "status": "completed"
    },
    "tags": []
   },
   "source": [
    "# <div style= \"font-family: serif; font-weight:bold; letter-spacing: 0px; color:white; font-size:70%; text-align:left;padding:3.0px; background: orange; border-bottom: 6px solid darkred\"> 1. IMPORTS"
   ]
  },
  {
   "cell_type": "code",
   "execution_count": 1,
   "id": "201f8ec0",
   "metadata": {
    "_cell_guid": "b1076dfc-b9ad-4769-8c92-a6c4dae69d19",
    "_uuid": "8f2839f25d086af736a60e9eeb907d3b93b6e0e5",
    "execution": {
     "iopub.execute_input": "2024-02-13T13:26:55.945474Z",
     "iopub.status.busy": "2024-02-13T13:26:55.944997Z",
     "iopub.status.idle": "2024-02-13T13:26:59.413542Z",
     "shell.execute_reply": "2024-02-13T13:26:59.412485Z"
    },
    "papermill": {
     "duration": 3.487309,
     "end_time": "2024-02-13T13:26:59.416155",
     "exception": false,
     "start_time": "2024-02-13T13:26:55.928846",
     "status": "completed"
    },
    "tags": []
   },
   "outputs": [
    {
     "name": "stdout",
     "output_type": "stream",
     "text": [
      "/kaggle/input/playground-series-s4e2/sample_submission.csv\n",
      "/kaggle/input/playground-series-s4e2/train.csv\n",
      "/kaggle/input/playground-series-s4e2/test.csv\n"
     ]
    }
   ],
   "source": [
    "import numpy as np\n",
    "import pandas as pd\n",
    "import matplotlib.pyplot as plt\n",
    "import seaborn as sns\n",
    "from sklearn.model_selection import train_test_split, RandomizedSearchCV\n",
    "from sklearn.preprocessing import MinMaxScaler,  LabelEncoder\n",
    "from sklearn.metrics import accuracy_score, roc_curve, auc\n",
    "from sklearn.ensemble import RandomForestClassifier\n",
    "\n",
    "import warnings as ww\n",
    "ww.filterwarnings('ignore')\n",
    "import os\n",
    "for dirname, _, filenames in os.walk('/kaggle/input'):\n",
    "    for filename in filenames:\n",
    "        print(os.path.join(dirname, filename))"
   ]
  },
  {
   "cell_type": "markdown",
   "id": "59a0b08c",
   "metadata": {
    "papermill": {
     "duration": 0.015695,
     "end_time": "2024-02-13T13:26:59.446344",
     "exception": false,
     "start_time": "2024-02-13T13:26:59.430649",
     "status": "completed"
    },
    "tags": []
   },
   "source": [
    "# <div style= \"font-family: serif; font-weight:bold; letter-spacing: 0px; color:white; font-size:70%; text-align:left;padding:3.0px; background: orange; border-bottom: 6px solid darkred\"> 2. LOAD DATA"
   ]
  },
  {
   "cell_type": "code",
   "execution_count": 2,
   "id": "65a78391",
   "metadata": {
    "execution": {
     "iopub.execute_input": "2024-02-13T13:26:59.478446Z",
     "iopub.status.busy": "2024-02-13T13:26:59.477189Z",
     "iopub.status.idle": "2024-02-13T13:26:59.675783Z",
     "shell.execute_reply": "2024-02-13T13:26:59.674511Z"
    },
    "papermill": {
     "duration": 0.218078,
     "end_time": "2024-02-13T13:26:59.678768",
     "exception": false,
     "start_time": "2024-02-13T13:26:59.460690",
     "status": "completed"
    },
    "tags": []
   },
   "outputs": [],
   "source": [
    "train  = pd.read_csv('/kaggle/input/playground-series-s4e2/train.csv')\n",
    "test  = pd.read_csv('/kaggle/input/playground-series-s4e2/test.csv')"
   ]
  },
  {
   "cell_type": "markdown",
   "id": "8561a3f8",
   "metadata": {
    "papermill": {
     "duration": 0.01435,
     "end_time": "2024-02-13T13:26:59.708039",
     "exception": false,
     "start_time": "2024-02-13T13:26:59.693689",
     "status": "completed"
    },
    "tags": []
   },
   "source": [
    "# <div style= \"font-family: serif; font-weight:bold; letter-spacing: 0px; color:white; font-size:70%; text-align:left;padding:3.0px; background: orange; border-bottom: 6px solid darkred\"> 3. EXPLORY DATA ANALYSIS"
   ]
  },
  {
   "cell_type": "code",
   "execution_count": 3,
   "id": "30857b19",
   "metadata": {
    "execution": {
     "iopub.execute_input": "2024-02-13T13:26:59.738723Z",
     "iopub.status.busy": "2024-02-13T13:26:59.738325Z",
     "iopub.status.idle": "2024-02-13T13:26:59.785866Z",
     "shell.execute_reply": "2024-02-13T13:26:59.784296Z"
    },
    "papermill": {
     "duration": 0.066425,
     "end_time": "2024-02-13T13:26:59.788620",
     "exception": false,
     "start_time": "2024-02-13T13:26:59.722195",
     "status": "completed"
    },
    "tags": []
   },
   "outputs": [
    {
     "name": "stdout",
     "output_type": "stream",
     "text": [
      "train shape: (20758, 18)\n",
      "train duplicated: 0\n"
     ]
    }
   ],
   "source": [
    "print(f'train shape: {train.shape}')\n",
    "print(f'train duplicated: {train.duplicated().sum()}')"
   ]
  },
  {
   "cell_type": "code",
   "execution_count": 4,
   "id": "a78e34da",
   "metadata": {
    "execution": {
     "iopub.execute_input": "2024-02-13T13:26:59.819597Z",
     "iopub.status.busy": "2024-02-13T13:26:59.819126Z",
     "iopub.status.idle": "2024-02-13T13:26:59.855464Z",
     "shell.execute_reply": "2024-02-13T13:26:59.854589Z"
    },
    "papermill": {
     "duration": 0.054704,
     "end_time": "2024-02-13T13:26:59.857786",
     "exception": false,
     "start_time": "2024-02-13T13:26:59.803082",
     "status": "completed"
    },
    "tags": []
   },
   "outputs": [
    {
     "data": {
      "text/html": [
       "<div>\n",
       "<style scoped>\n",
       "    .dataframe tbody tr th:only-of-type {\n",
       "        vertical-align: middle;\n",
       "    }\n",
       "\n",
       "    .dataframe tbody tr th {\n",
       "        vertical-align: top;\n",
       "    }\n",
       "\n",
       "    .dataframe thead th {\n",
       "        text-align: right;\n",
       "    }\n",
       "</style>\n",
       "<table border=\"1\" class=\"dataframe\">\n",
       "  <thead>\n",
       "    <tr style=\"text-align: right;\">\n",
       "      <th></th>\n",
       "      <th>id</th>\n",
       "      <th>Gender</th>\n",
       "      <th>Age</th>\n",
       "      <th>Height</th>\n",
       "      <th>Weight</th>\n",
       "      <th>family_history_with_overweight</th>\n",
       "      <th>FAVC</th>\n",
       "      <th>FCVC</th>\n",
       "      <th>NCP</th>\n",
       "      <th>CAEC</th>\n",
       "      <th>SMOKE</th>\n",
       "      <th>CH2O</th>\n",
       "      <th>SCC</th>\n",
       "      <th>FAF</th>\n",
       "      <th>TUE</th>\n",
       "      <th>CALC</th>\n",
       "      <th>MTRANS</th>\n",
       "      <th>NObeyesdad</th>\n",
       "    </tr>\n",
       "  </thead>\n",
       "  <tbody>\n",
       "    <tr>\n",
       "      <th>17248</th>\n",
       "      <td>17248</td>\n",
       "      <td>Male</td>\n",
       "      <td>22.889099</td>\n",
       "      <td>1.699793</td>\n",
       "      <td>95.324282</td>\n",
       "      <td>yes</td>\n",
       "      <td>yes</td>\n",
       "      <td>2.0</td>\n",
       "      <td>3.000000</td>\n",
       "      <td>Sometimes</td>\n",
       "      <td>no</td>\n",
       "      <td>2.000000</td>\n",
       "      <td>no</td>\n",
       "      <td>0.651412</td>\n",
       "      <td>1.00000</td>\n",
       "      <td>no</td>\n",
       "      <td>Public_Transportation</td>\n",
       "      <td>Obesity_Type_I</td>\n",
       "    </tr>\n",
       "    <tr>\n",
       "      <th>282</th>\n",
       "      <td>282</td>\n",
       "      <td>Female</td>\n",
       "      <td>19.337404</td>\n",
       "      <td>1.672310</td>\n",
       "      <td>49.660995</td>\n",
       "      <td>no</td>\n",
       "      <td>yes</td>\n",
       "      <td>2.0</td>\n",
       "      <td>4.000000</td>\n",
       "      <td>Sometimes</td>\n",
       "      <td>no</td>\n",
       "      <td>1.157395</td>\n",
       "      <td>no</td>\n",
       "      <td>2.000000</td>\n",
       "      <td>1.00000</td>\n",
       "      <td>Sometimes</td>\n",
       "      <td>Public_Transportation</td>\n",
       "      <td>Insufficient_Weight</td>\n",
       "    </tr>\n",
       "    <tr>\n",
       "      <th>20409</th>\n",
       "      <td>20409</td>\n",
       "      <td>Male</td>\n",
       "      <td>23.000000</td>\n",
       "      <td>1.719342</td>\n",
       "      <td>80.091886</td>\n",
       "      <td>yes</td>\n",
       "      <td>yes</td>\n",
       "      <td>3.0</td>\n",
       "      <td>2.669766</td>\n",
       "      <td>Sometimes</td>\n",
       "      <td>no</td>\n",
       "      <td>2.000000</td>\n",
       "      <td>no</td>\n",
       "      <td>1.668961</td>\n",
       "      <td>1.89388</td>\n",
       "      <td>Sometimes</td>\n",
       "      <td>Public_Transportation</td>\n",
       "      <td>Overweight_Level_II</td>\n",
       "    </tr>\n",
       "  </tbody>\n",
       "</table>\n",
       "</div>"
      ],
      "text/plain": [
       "          id  Gender        Age    Height     Weight  \\\n",
       "17248  17248    Male  22.889099  1.699793  95.324282   \n",
       "282      282  Female  19.337404  1.672310  49.660995   \n",
       "20409  20409    Male  23.000000  1.719342  80.091886   \n",
       "\n",
       "      family_history_with_overweight FAVC  FCVC       NCP       CAEC SMOKE  \\\n",
       "17248                            yes  yes   2.0  3.000000  Sometimes    no   \n",
       "282                               no  yes   2.0  4.000000  Sometimes    no   \n",
       "20409                            yes  yes   3.0  2.669766  Sometimes    no   \n",
       "\n",
       "           CH2O SCC       FAF      TUE       CALC                 MTRANS  \\\n",
       "17248  2.000000  no  0.651412  1.00000         no  Public_Transportation   \n",
       "282    1.157395  no  2.000000  1.00000  Sometimes  Public_Transportation   \n",
       "20409  2.000000  no  1.668961  1.89388  Sometimes  Public_Transportation   \n",
       "\n",
       "                NObeyesdad  \n",
       "17248       Obesity_Type_I  \n",
       "282    Insufficient_Weight  \n",
       "20409  Overweight_Level_II  "
      ]
     },
     "execution_count": 4,
     "metadata": {},
     "output_type": "execute_result"
    }
   ],
   "source": [
    "train.sample(3)"
   ]
  },
  {
   "cell_type": "code",
   "execution_count": 5,
   "id": "a4302fe6",
   "metadata": {
    "execution": {
     "iopub.execute_input": "2024-02-13T13:26:59.889345Z",
     "iopub.status.busy": "2024-02-13T13:26:59.888947Z",
     "iopub.status.idle": "2024-02-13T13:26:59.897077Z",
     "shell.execute_reply": "2024-02-13T13:26:59.895881Z"
    },
    "papermill": {
     "duration": 0.02683,
     "end_time": "2024-02-13T13:26:59.899683",
     "exception": false,
     "start_time": "2024-02-13T13:26:59.872853",
     "status": "completed"
    },
    "tags": []
   },
   "outputs": [
    {
     "data": {
      "text/plain": [
       "id                                  int64\n",
       "Gender                             object\n",
       "Age                               float64\n",
       "Height                            float64\n",
       "Weight                            float64\n",
       "family_history_with_overweight     object\n",
       "FAVC                               object\n",
       "FCVC                              float64\n",
       "NCP                               float64\n",
       "CAEC                               object\n",
       "SMOKE                              object\n",
       "CH2O                              float64\n",
       "SCC                                object\n",
       "FAF                               float64\n",
       "TUE                               float64\n",
       "CALC                               object\n",
       "MTRANS                             object\n",
       "NObeyesdad                         object\n",
       "dtype: object"
      ]
     },
     "execution_count": 5,
     "metadata": {},
     "output_type": "execute_result"
    }
   ],
   "source": [
    "train.dtypes"
   ]
  },
  {
   "cell_type": "code",
   "execution_count": 6,
   "id": "a9eb5301",
   "metadata": {
    "execution": {
     "iopub.execute_input": "2024-02-13T13:26:59.932407Z",
     "iopub.status.busy": "2024-02-13T13:26:59.932018Z",
     "iopub.status.idle": "2024-02-13T13:26:59.938013Z",
     "shell.execute_reply": "2024-02-13T13:26:59.936809Z"
    },
    "papermill": {
     "duration": 0.024709,
     "end_time": "2024-02-13T13:26:59.940395",
     "exception": false,
     "start_time": "2024-02-13T13:26:59.915686",
     "status": "completed"
    },
    "tags": []
   },
   "outputs": [],
   "source": [
    "def Binaryzer(x):\n",
    "\tbinaryzer = {'yes': 1, 'no': 0}\n",
    "\tcolums_to_replace= ['family_history_with_overweight', 'FAVC', 'SMOKE', 'SCC']\n",
    "\tx[colums_to_replace] = x[colums_to_replace].replace(binaryzer)"
   ]
  },
  {
   "cell_type": "code",
   "execution_count": 7,
   "id": "59317573",
   "metadata": {
    "execution": {
     "iopub.execute_input": "2024-02-13T13:26:59.972696Z",
     "iopub.status.busy": "2024-02-13T13:26:59.972288Z",
     "iopub.status.idle": "2024-02-13T13:27:00.084863Z",
     "shell.execute_reply": "2024-02-13T13:27:00.083490Z"
    },
    "papermill": {
     "duration": 0.132263,
     "end_time": "2024-02-13T13:27:00.087602",
     "exception": false,
     "start_time": "2024-02-13T13:26:59.955339",
     "status": "completed"
    },
    "tags": []
   },
   "outputs": [],
   "source": [
    "Binaryzer(train)\n",
    "Binaryzer(test)"
   ]
  },
  {
   "cell_type": "code",
   "execution_count": 8,
   "id": "4c43582c",
   "metadata": {
    "execution": {
     "iopub.execute_input": "2024-02-13T13:27:00.120569Z",
     "iopub.status.busy": "2024-02-13T13:27:00.120105Z",
     "iopub.status.idle": "2024-02-13T13:27:00.174920Z",
     "shell.execute_reply": "2024-02-13T13:27:00.173702Z"
    },
    "papermill": {
     "duration": 0.074366,
     "end_time": "2024-02-13T13:27:00.177762",
     "exception": false,
     "start_time": "2024-02-13T13:27:00.103396",
     "status": "completed"
    },
    "tags": []
   },
   "outputs": [
    {
     "data": {
      "text/html": [
       "<div>\n",
       "<style scoped>\n",
       "    .dataframe tbody tr th:only-of-type {\n",
       "        vertical-align: middle;\n",
       "    }\n",
       "\n",
       "    .dataframe tbody tr th {\n",
       "        vertical-align: top;\n",
       "    }\n",
       "\n",
       "    .dataframe thead th {\n",
       "        text-align: right;\n",
       "    }\n",
       "</style>\n",
       "<table border=\"1\" class=\"dataframe\">\n",
       "  <thead>\n",
       "    <tr style=\"text-align: right;\">\n",
       "      <th></th>\n",
       "      <th>Gender</th>\n",
       "      <th>CAEC</th>\n",
       "      <th>CALC</th>\n",
       "      <th>MTRANS</th>\n",
       "      <th>NObeyesdad</th>\n",
       "    </tr>\n",
       "  </thead>\n",
       "  <tbody>\n",
       "    <tr>\n",
       "      <th>count</th>\n",
       "      <td>20758</td>\n",
       "      <td>20758</td>\n",
       "      <td>20758</td>\n",
       "      <td>20758</td>\n",
       "      <td>20758</td>\n",
       "    </tr>\n",
       "    <tr>\n",
       "      <th>unique</th>\n",
       "      <td>2</td>\n",
       "      <td>4</td>\n",
       "      <td>3</td>\n",
       "      <td>5</td>\n",
       "      <td>7</td>\n",
       "    </tr>\n",
       "    <tr>\n",
       "      <th>top</th>\n",
       "      <td>Female</td>\n",
       "      <td>Sometimes</td>\n",
       "      <td>Sometimes</td>\n",
       "      <td>Public_Transportation</td>\n",
       "      <td>Obesity_Type_III</td>\n",
       "    </tr>\n",
       "    <tr>\n",
       "      <th>freq</th>\n",
       "      <td>10422</td>\n",
       "      <td>17529</td>\n",
       "      <td>15066</td>\n",
       "      <td>16687</td>\n",
       "      <td>4046</td>\n",
       "    </tr>\n",
       "  </tbody>\n",
       "</table>\n",
       "</div>"
      ],
      "text/plain": [
       "        Gender       CAEC       CALC                 MTRANS        NObeyesdad\n",
       "count    20758      20758      20758                  20758             20758\n",
       "unique       2          4          3                      5                 7\n",
       "top     Female  Sometimes  Sometimes  Public_Transportation  Obesity_Type_III\n",
       "freq     10422      17529      15066                  16687              4046"
      ]
     },
     "execution_count": 8,
     "metadata": {},
     "output_type": "execute_result"
    }
   ],
   "source": [
    "train.select_dtypes(include='object').describe()"
   ]
  },
  {
   "cell_type": "code",
   "execution_count": 9,
   "id": "215da064",
   "metadata": {
    "execution": {
     "iopub.execute_input": "2024-02-13T13:27:00.210193Z",
     "iopub.status.busy": "2024-02-13T13:27:00.209777Z",
     "iopub.status.idle": "2024-02-13T13:27:00.215904Z",
     "shell.execute_reply": "2024-02-13T13:27:00.214520Z"
    },
    "papermill": {
     "duration": 0.025108,
     "end_time": "2024-02-13T13:27:00.218587",
     "exception": false,
     "start_time": "2024-02-13T13:27:00.193479",
     "status": "completed"
    },
    "tags": []
   },
   "outputs": [],
   "source": [
    "categorical = ['Gender','CAEC','CALC','MTRANS','NObeyesdad']\n",
    "numerical = ['Age','Height','Weight','FCVC','NCP','CH2O','FAF','TUE']"
   ]
  },
  {
   "cell_type": "code",
   "execution_count": 10,
   "id": "ef6d8abc",
   "metadata": {
    "execution": {
     "iopub.execute_input": "2024-02-13T13:27:00.251765Z",
     "iopub.status.busy": "2024-02-13T13:27:00.251365Z",
     "iopub.status.idle": "2024-02-13T13:27:01.917917Z",
     "shell.execute_reply": "2024-02-13T13:27:01.916833Z"
    },
    "papermill": {
     "duration": 1.686347,
     "end_time": "2024-02-13T13:27:01.920982",
     "exception": false,
     "start_time": "2024-02-13T13:27:00.234635",
     "status": "completed"
    },
    "tags": []
   },
   "outputs": [
    {
     "data": {
      "image/png": "[encoded data removed]",
      "text/plain": [
       "<Figure size 1700x400 with 5 Axes>"
      ]
     },
     "metadata": {},
     "output_type": "display_data"
    }
   ],
   "source": [
    "sns.set_style('dark')\n",
    "plt.figure(figsize=(17,4))\n",
    "for col in range(0, len(categorical)):\n",
    "\tplt.subplot(1,5,col+1)\n",
    "\tsns.countplot(train, y=categorical[col], palette='viridis')\n",
    "\tplt.ylabel('')\n",
    "\tplt.xlabel('frequence')\n",
    "\tplt.title(categorical[col], weight='bold')\n",
    "plt.tight_layout()"
   ]
  },
  {
   "cell_type": "code",
   "execution_count": 11,
   "id": "8003ed3d",
   "metadata": {
    "execution": {
     "iopub.execute_input": "2024-02-13T13:27:01.956638Z",
     "iopub.status.busy": "2024-02-13T13:27:01.956251Z",
     "iopub.status.idle": "2024-02-13T13:27:02.024490Z",
     "shell.execute_reply": "2024-02-13T13:27:02.023305Z"
    },
    "papermill": {
     "duration": 0.089634,
     "end_time": "2024-02-13T13:27:02.027378",
     "exception": false,
     "start_time": "2024-02-13T13:27:01.937744",
     "status": "completed"
    },
    "tags": []
   },
   "outputs": [
    {
     "data": {
      "text/html": [
       "<div>\n",
       "<style scoped>\n",
       "    .dataframe tbody tr th:only-of-type {\n",
       "        vertical-align: middle;\n",
       "    }\n",
       "\n",
       "    .dataframe tbody tr th {\n",
       "        vertical-align: top;\n",
       "    }\n",
       "\n",
       "    .dataframe thead th {\n",
       "        text-align: right;\n",
       "    }\n",
       "</style>\n",
       "<table border=\"1\" class=\"dataframe\">\n",
       "  <thead>\n",
       "    <tr style=\"text-align: right;\">\n",
       "      <th></th>\n",
       "      <th>count</th>\n",
       "      <th>mean</th>\n",
       "      <th>std</th>\n",
       "      <th>min</th>\n",
       "      <th>25%</th>\n",
       "      <th>50%</th>\n",
       "      <th>75%</th>\n",
       "      <th>max</th>\n",
       "    </tr>\n",
       "  </thead>\n",
       "  <tbody>\n",
       "    <tr>\n",
       "      <th>id</th>\n",
       "      <td>20758.0</td>\n",
       "      <td>10378.50</td>\n",
       "      <td>5992.46</td>\n",
       "      <td>0.00</td>\n",
       "      <td>5189.25</td>\n",
       "      <td>10378.50</td>\n",
       "      <td>15567.75</td>\n",
       "      <td>20757.00</td>\n",
       "    </tr>\n",
       "    <tr>\n",
       "      <th>Age</th>\n",
       "      <td>20758.0</td>\n",
       "      <td>23.84</td>\n",
       "      <td>5.69</td>\n",
       "      <td>14.00</td>\n",
       "      <td>20.00</td>\n",
       "      <td>22.82</td>\n",
       "      <td>26.00</td>\n",
       "      <td>61.00</td>\n",
       "    </tr>\n",
       "    <tr>\n",
       "      <th>Height</th>\n",
       "      <td>20758.0</td>\n",
       "      <td>1.70</td>\n",
       "      <td>0.09</td>\n",
       "      <td>1.45</td>\n",
       "      <td>1.63</td>\n",
       "      <td>1.70</td>\n",
       "      <td>1.76</td>\n",
       "      <td>1.98</td>\n",
       "    </tr>\n",
       "    <tr>\n",
       "      <th>Weight</th>\n",
       "      <td>20758.0</td>\n",
       "      <td>87.89</td>\n",
       "      <td>26.38</td>\n",
       "      <td>39.00</td>\n",
       "      <td>66.00</td>\n",
       "      <td>84.06</td>\n",
       "      <td>111.60</td>\n",
       "      <td>165.06</td>\n",
       "    </tr>\n",
       "    <tr>\n",
       "      <th>family_history_with_overweight</th>\n",
       "      <td>20758.0</td>\n",
       "      <td>0.82</td>\n",
       "      <td>0.38</td>\n",
       "      <td>0.00</td>\n",
       "      <td>1.00</td>\n",
       "      <td>1.00</td>\n",
       "      <td>1.00</td>\n",
       "      <td>1.00</td>\n",
       "    </tr>\n",
       "    <tr>\n",
       "      <th>FAVC</th>\n",
       "      <td>20758.0</td>\n",
       "      <td>0.91</td>\n",
       "      <td>0.28</td>\n",
       "      <td>0.00</td>\n",
       "      <td>1.00</td>\n",
       "      <td>1.00</td>\n",
       "      <td>1.00</td>\n",
       "      <td>1.00</td>\n",
       "    </tr>\n",
       "    <tr>\n",
       "      <th>FCVC</th>\n",
       "      <td>20758.0</td>\n",
       "      <td>2.45</td>\n",
       "      <td>0.53</td>\n",
       "      <td>1.00</td>\n",
       "      <td>2.00</td>\n",
       "      <td>2.39</td>\n",
       "      <td>3.00</td>\n",
       "      <td>3.00</td>\n",
       "    </tr>\n",
       "    <tr>\n",
       "      <th>NCP</th>\n",
       "      <td>20758.0</td>\n",
       "      <td>2.76</td>\n",
       "      <td>0.71</td>\n",
       "      <td>1.00</td>\n",
       "      <td>3.00</td>\n",
       "      <td>3.00</td>\n",
       "      <td>3.00</td>\n",
       "      <td>4.00</td>\n",
       "    </tr>\n",
       "    <tr>\n",
       "      <th>SMOKE</th>\n",
       "      <td>20758.0</td>\n",
       "      <td>0.01</td>\n",
       "      <td>0.11</td>\n",
       "      <td>0.00</td>\n",
       "      <td>0.00</td>\n",
       "      <td>0.00</td>\n",
       "      <td>0.00</td>\n",
       "      <td>1.00</td>\n",
       "    </tr>\n",
       "    <tr>\n",
       "      <th>CH2O</th>\n",
       "      <td>20758.0</td>\n",
       "      <td>2.03</td>\n",
       "      <td>0.61</td>\n",
       "      <td>1.00</td>\n",
       "      <td>1.79</td>\n",
       "      <td>2.00</td>\n",
       "      <td>2.55</td>\n",
       "      <td>3.00</td>\n",
       "    </tr>\n",
       "    <tr>\n",
       "      <th>SCC</th>\n",
       "      <td>20758.0</td>\n",
       "      <td>0.03</td>\n",
       "      <td>0.18</td>\n",
       "      <td>0.00</td>\n",
       "      <td>0.00</td>\n",
       "      <td>0.00</td>\n",
       "      <td>0.00</td>\n",
       "      <td>1.00</td>\n",
       "    </tr>\n",
       "    <tr>\n",
       "      <th>FAF</th>\n",
       "      <td>20758.0</td>\n",
       "      <td>0.98</td>\n",
       "      <td>0.84</td>\n",
       "      <td>0.00</td>\n",
       "      <td>0.01</td>\n",
       "      <td>1.00</td>\n",
       "      <td>1.59</td>\n",
       "      <td>3.00</td>\n",
       "    </tr>\n",
       "    <tr>\n",
       "      <th>TUE</th>\n",
       "      <td>20758.0</td>\n",
       "      <td>0.62</td>\n",
       "      <td>0.60</td>\n",
       "      <td>0.00</td>\n",
       "      <td>0.00</td>\n",
       "      <td>0.57</td>\n",
       "      <td>1.00</td>\n",
       "      <td>2.00</td>\n",
       "    </tr>\n",
       "  </tbody>\n",
       "</table>\n",
       "</div>"
      ],
      "text/plain": [
       "                                  count      mean      std    min      25%  \\\n",
       "id                              20758.0  10378.50  5992.46   0.00  5189.25   \n",
       "Age                             20758.0     23.84     5.69  14.00    20.00   \n",
       "Height                          20758.0      1.70     0.09   1.45     1.63   \n",
       "Weight                          20758.0     87.89    26.38  39.00    66.00   \n",
       "family_history_with_overweight  20758.0      0.82     0.38   0.00     1.00   \n",
       "FAVC                            20758.0      0.91     0.28   0.00     1.00   \n",
       "FCVC                            20758.0      2.45     0.53   1.00     2.00   \n",
       "NCP                             20758.0      2.76     0.71   1.00     3.00   \n",
       "SMOKE                           20758.0      0.01     0.11   0.00     0.00   \n",
       "CH2O                            20758.0      2.03     0.61   1.00     1.79   \n",
       "SCC                             20758.0      0.03     0.18   0.00     0.00   \n",
       "FAF                             20758.0      0.98     0.84   0.00     0.01   \n",
       "TUE                             20758.0      0.62     0.60   0.00     0.00   \n",
       "\n",
       "                                     50%       75%       max  \n",
       "id                              10378.50  15567.75  20757.00  \n",
       "Age                                22.82     26.00     61.00  \n",
       "Height                              1.70      1.76      1.98  \n",
       "Weight                             84.06    111.60    165.06  \n",
       "family_history_with_overweight      1.00      1.00      1.00  \n",
       "FAVC                                1.00      1.00      1.00  \n",
       "FCVC                                2.39      3.00      3.00  \n",
       "NCP                                 3.00      3.00      4.00  \n",
       "SMOKE                               0.00      0.00      1.00  \n",
       "CH2O                                2.00      2.55      3.00  \n",
       "SCC                                 0.00      0.00      1.00  \n",
       "FAF                                 1.00      1.59      3.00  \n",
       "TUE                                 0.57      1.00      2.00  "
      ]
     },
     "execution_count": 11,
     "metadata": {},
     "output_type": "execute_result"
    }
   ],
   "source": [
    "train.select_dtypes(exclude='object').describe().T.round(2)"
   ]
  },
  {
   "cell_type": "code",
   "execution_count": 12,
   "id": "04169010",
   "metadata": {
    "execution": {
     "iopub.execute_input": "2024-02-13T13:27:02.062932Z",
     "iopub.status.busy": "2024-02-13T13:27:02.062098Z",
     "iopub.status.idle": "2024-02-13T13:27:02.085175Z",
     "shell.execute_reply": "2024-02-13T13:27:02.083645Z"
    },
    "papermill": {
     "duration": 0.044547,
     "end_time": "2024-02-13T13:27:02.088398",
     "exception": false,
     "start_time": "2024-02-13T13:27:02.043851",
     "status": "completed"
    },
    "tags": []
   },
   "outputs": [],
   "source": [
    "from scipy import stats\n",
    "no_outlier = np.array([True] * len(train))\n",
    "\n",
    "for col in numerical:\n",
    "\tzscore = abs(stats.zscore(train[col]))\n",
    "\tno_outlier =  (zscore < 3) & no_outlier"
   ]
  },
  {
   "cell_type": "code",
   "execution_count": 13,
   "id": "3b6953c5",
   "metadata": {
    "execution": {
     "iopub.execute_input": "2024-02-13T13:27:02.123026Z",
     "iopub.status.busy": "2024-02-13T13:27:02.122356Z",
     "iopub.status.idle": "2024-02-13T13:27:02.132730Z",
     "shell.execute_reply": "2024-02-13T13:27:02.131468Z"
    },
    "papermill": {
     "duration": 0.030369,
     "end_time": "2024-02-13T13:27:02.135235",
     "exception": false,
     "start_time": "2024-02-13T13:27:02.104866",
     "status": "completed"
    },
    "tags": []
   },
   "outputs": [
    {
     "data": {
      "text/plain": [
       "True     20479\n",
       "False      279\n",
       "Name: count, dtype: int64"
      ]
     },
     "execution_count": 13,
     "metadata": {},
     "output_type": "execute_result"
    }
   ],
   "source": [
    "no_outlier.value_counts()"
   ]
  },
  {
   "cell_type": "code",
   "execution_count": 14,
   "id": "63795442",
   "metadata": {
    "execution": {
     "iopub.execute_input": "2024-02-13T13:27:02.173539Z",
     "iopub.status.busy": "2024-02-13T13:27:02.171899Z",
     "iopub.status.idle": "2024-02-13T13:27:02.183647Z",
     "shell.execute_reply": "2024-02-13T13:27:02.182637Z"
    },
    "papermill": {
     "duration": 0.034947,
     "end_time": "2024-02-13T13:27:02.186703",
     "exception": false,
     "start_time": "2024-02-13T13:27:02.151756",
     "status": "completed"
    },
    "tags": []
   },
   "outputs": [],
   "source": [
    "train = train[no_outlier==True]"
   ]
  },
  {
   "cell_type": "code",
   "execution_count": 15,
   "id": "0d7b3351",
   "metadata": {
    "execution": {
     "iopub.execute_input": "2024-02-13T13:27:02.224688Z",
     "iopub.status.busy": "2024-02-13T13:27:02.223841Z",
     "iopub.status.idle": "2024-02-13T13:27:04.607564Z",
     "shell.execute_reply": "2024-02-13T13:27:04.606387Z"
    },
    "papermill": {
     "duration": 2.404433,
     "end_time": "2024-02-13T13:27:04.610127",
     "exception": false,
     "start_time": "2024-02-13T13:27:02.205694",
     "status": "completed"
    },
    "tags": []
   },
   "outputs": [
    {
     "data": {
      "image/png": "[encoded data removed]",
      "text/plain": [
       "<Figure size 640x480 with 9 Axes>"
      ]
     },
     "metadata": {},
     "output_type": "display_data"
    }
   ],
   "source": [
    "train[numerical].hist()\n",
    "plt.tight_layout()"
   ]
  },
  {
   "cell_type": "markdown",
   "id": "a9e5e10f",
   "metadata": {
    "papermill": {
     "duration": 0.017485,
     "end_time": "2024-02-13T13:27:04.644730",
     "exception": false,
     "start_time": "2024-02-13T13:27:04.627245",
     "status": "completed"
    },
    "tags": []
   },
   "source": [
    "# <div style= \"font-family: serif; font-weight:bold; letter-spacing: 0px; color:white; font-size:70%; text-align:left;padding:3.0px; background: orange; border-bottom: 6px solid darkred\"> 4. PRE-PROCESS"
   ]
  },
  {
   "cell_type": "code",
   "execution_count": 16,
   "id": "8dad0884",
   "metadata": {
    "execution": {
     "iopub.execute_input": "2024-02-13T13:27:04.681446Z",
     "iopub.status.busy": "2024-02-13T13:27:04.680770Z",
     "iopub.status.idle": "2024-02-13T13:27:04.702300Z",
     "shell.execute_reply": "2024-02-13T13:27:04.701119Z"
    },
    "papermill": {
     "duration": 0.042913,
     "end_time": "2024-02-13T13:27:04.705077",
     "exception": false,
     "start_time": "2024-02-13T13:27:04.662164",
     "status": "completed"
    },
    "tags": []
   },
   "outputs": [
    {
     "data": {
      "text/html": [
       "<div>\n",
       "<style scoped>\n",
       "    .dataframe tbody tr th:only-of-type {\n",
       "        vertical-align: middle;\n",
       "    }\n",
       "\n",
       "    .dataframe tbody tr th {\n",
       "        vertical-align: top;\n",
       "    }\n",
       "\n",
       "    .dataframe thead th {\n",
       "        text-align: right;\n",
       "    }\n",
       "</style>\n",
       "<table border=\"1\" class=\"dataframe\">\n",
       "  <thead>\n",
       "    <tr style=\"text-align: right;\">\n",
       "      <th></th>\n",
       "      <th>id</th>\n",
       "      <th>Gender</th>\n",
       "      <th>Age</th>\n",
       "      <th>Height</th>\n",
       "      <th>Weight</th>\n",
       "      <th>family_history_with_overweight</th>\n",
       "      <th>FAVC</th>\n",
       "      <th>FCVC</th>\n",
       "      <th>NCP</th>\n",
       "      <th>CAEC</th>\n",
       "      <th>SMOKE</th>\n",
       "      <th>CH2O</th>\n",
       "      <th>SCC</th>\n",
       "      <th>FAF</th>\n",
       "      <th>TUE</th>\n",
       "      <th>CALC</th>\n",
       "      <th>MTRANS</th>\n",
       "      <th>NObeyesdad</th>\n",
       "    </tr>\n",
       "  </thead>\n",
       "  <tbody>\n",
       "    <tr>\n",
       "      <th>17818</th>\n",
       "      <td>17818</td>\n",
       "      <td>Male</td>\n",
       "      <td>26.947786</td>\n",
       "      <td>1.825449</td>\n",
       "      <td>120.399758</td>\n",
       "      <td>1</td>\n",
       "      <td>1</td>\n",
       "      <td>2.233720</td>\n",
       "      <td>3.0</td>\n",
       "      <td>Sometimes</td>\n",
       "      <td>0</td>\n",
       "      <td>2.715252</td>\n",
       "      <td>0</td>\n",
       "      <td>0.885633</td>\n",
       "      <td>0.939726</td>\n",
       "      <td>Sometimes</td>\n",
       "      <td>Public_Transportation</td>\n",
       "      <td>Obesity_Type_II</td>\n",
       "    </tr>\n",
       "    <tr>\n",
       "      <th>20704</th>\n",
       "      <td>20704</td>\n",
       "      <td>Male</td>\n",
       "      <td>17.894784</td>\n",
       "      <td>1.722884</td>\n",
       "      <td>97.971598</td>\n",
       "      <td>1</td>\n",
       "      <td>1</td>\n",
       "      <td>2.000000</td>\n",
       "      <td>3.0</td>\n",
       "      <td>Sometimes</td>\n",
       "      <td>0</td>\n",
       "      <td>3.000000</td>\n",
       "      <td>0</td>\n",
       "      <td>1.000000</td>\n",
       "      <td>2.000000</td>\n",
       "      <td>no</td>\n",
       "      <td>Public_Transportation</td>\n",
       "      <td>Obesity_Type_I</td>\n",
       "    </tr>\n",
       "    <tr>\n",
       "      <th>16270</th>\n",
       "      <td>16270</td>\n",
       "      <td>Male</td>\n",
       "      <td>17.085250</td>\n",
       "      <td>1.896073</td>\n",
       "      <td>59.258372</td>\n",
       "      <td>0</td>\n",
       "      <td>1</td>\n",
       "      <td>2.596364</td>\n",
       "      <td>4.0</td>\n",
       "      <td>Sometimes</td>\n",
       "      <td>0</td>\n",
       "      <td>2.000000</td>\n",
       "      <td>0</td>\n",
       "      <td>2.000000</td>\n",
       "      <td>1.000000</td>\n",
       "      <td>no</td>\n",
       "      <td>Automobile</td>\n",
       "      <td>Insufficient_Weight</td>\n",
       "    </tr>\n",
       "  </tbody>\n",
       "</table>\n",
       "</div>"
      ],
      "text/plain": [
       "          id Gender        Age    Height      Weight  \\\n",
       "17818  17818   Male  26.947786  1.825449  120.399758   \n",
       "20704  20704   Male  17.894784  1.722884   97.971598   \n",
       "16270  16270   Male  17.085250  1.896073   59.258372   \n",
       "\n",
       "       family_history_with_overweight  FAVC      FCVC  NCP       CAEC  SMOKE  \\\n",
       "17818                               1     1  2.233720  3.0  Sometimes      0   \n",
       "20704                               1     1  2.000000  3.0  Sometimes      0   \n",
       "16270                               0     1  2.596364  4.0  Sometimes      0   \n",
       "\n",
       "           CH2O  SCC       FAF       TUE       CALC                 MTRANS  \\\n",
       "17818  2.715252    0  0.885633  0.939726  Sometimes  Public_Transportation   \n",
       "20704  3.000000    0  1.000000  2.000000         no  Public_Transportation   \n",
       "16270  2.000000    0  2.000000  1.000000         no             Automobile   \n",
       "\n",
       "                NObeyesdad  \n",
       "17818      Obesity_Type_II  \n",
       "20704       Obesity_Type_I  \n",
       "16270  Insufficient_Weight  "
      ]
     },
     "execution_count": 16,
     "metadata": {},
     "output_type": "execute_result"
    }
   ],
   "source": [
    "train.sample(3)"
   ]
  },
  {
   "cell_type": "code",
   "execution_count": 17,
   "id": "93e3db65",
   "metadata": {
    "execution": {
     "iopub.execute_input": "2024-02-13T13:27:04.741946Z",
     "iopub.status.busy": "2024-02-13T13:27:04.741507Z",
     "iopub.status.idle": "2024-02-13T13:27:04.747434Z",
     "shell.execute_reply": "2024-02-13T13:27:04.746272Z"
    },
    "papermill": {
     "duration": 0.027407,
     "end_time": "2024-02-13T13:27:04.749981",
     "exception": false,
     "start_time": "2024-02-13T13:27:04.722574",
     "status": "completed"
    },
    "tags": []
   },
   "outputs": [],
   "source": [
    "def Encoder(x):\n",
    "\tencoder = LabelEncoder()\n",
    "\tto_encoder = ['Gender','CAEC','CALC','MTRANS']\n",
    "\tfor col in to_encoder:\n",
    "\t\tx[col] = encoder.fit_transform(x[col]) "
   ]
  },
  {
   "cell_type": "code",
   "execution_count": 18,
   "id": "38457de2",
   "metadata": {
    "execution": {
     "iopub.execute_input": "2024-02-13T13:27:04.791122Z",
     "iopub.status.busy": "2024-02-13T13:27:04.790439Z",
     "iopub.status.idle": "2024-02-13T13:27:04.840732Z",
     "shell.execute_reply": "2024-02-13T13:27:04.839152Z"
    },
    "papermill": {
     "duration": 0.073412,
     "end_time": "2024-02-13T13:27:04.843833",
     "exception": false,
     "start_time": "2024-02-13T13:27:04.770421",
     "status": "completed"
    },
    "tags": []
   },
   "outputs": [],
   "source": [
    "Encoder(train)\n",
    "Encoder(test)"
   ]
  },
  {
   "cell_type": "code",
   "execution_count": 19,
   "id": "7f3000bd",
   "metadata": {
    "execution": {
     "iopub.execute_input": "2024-02-13T13:27:04.946987Z",
     "iopub.status.busy": "2024-02-13T13:27:04.946192Z",
     "iopub.status.idle": "2024-02-13T13:27:04.963577Z",
     "shell.execute_reply": "2024-02-13T13:27:04.962409Z"
    },
    "papermill": {
     "duration": 0.039543,
     "end_time": "2024-02-13T13:27:04.966304",
     "exception": false,
     "start_time": "2024-02-13T13:27:04.926761",
     "status": "completed"
    },
    "tags": []
   },
   "outputs": [
    {
     "data": {
      "text/plain": [
       "array(['Overweight_Level_II', 'Normal_Weight', 'Insufficient_Weight', ...,\n",
       "       'Obesity_Type_II', 'Overweight_Level_II', 'Obesity_Type_II'],\n",
       "      dtype=object)"
      ]
     },
     "execution_count": 19,
     "metadata": {},
     "output_type": "execute_result"
    }
   ],
   "source": [
    "Encoder_Target = LabelEncoder()\n",
    "train['NObeyesdad'] = Encoder_Target.fit_transform(train['NObeyesdad'])\n",
    "Encoder_Target.inverse_transform(train['NObeyesdad'])"
   ]
  },
  {
   "cell_type": "code",
   "execution_count": 20,
   "id": "63186e62",
   "metadata": {
    "execution": {
     "iopub.execute_input": "2024-02-13T13:27:05.003875Z",
     "iopub.status.busy": "2024-02-13T13:27:05.003441Z",
     "iopub.status.idle": "2024-02-13T13:27:05.012392Z",
     "shell.execute_reply": "2024-02-13T13:27:05.011434Z"
    },
    "papermill": {
     "duration": 0.030687,
     "end_time": "2024-02-13T13:27:05.014867",
     "exception": false,
     "start_time": "2024-02-13T13:27:04.984180",
     "status": "completed"
    },
    "tags": []
   },
   "outputs": [],
   "source": [
    "train.drop(columns=['id'], inplace=True)\n",
    "test.drop(columns=['id'], inplace=True)"
   ]
  },
  {
   "cell_type": "code",
   "execution_count": 21,
   "id": "f05526c9",
   "metadata": {
    "execution": {
     "iopub.execute_input": "2024-02-13T13:27:05.052563Z",
     "iopub.status.busy": "2024-02-13T13:27:05.051746Z",
     "iopub.status.idle": "2024-02-13T13:27:05.223684Z",
     "shell.execute_reply": "2024-02-13T13:27:05.222491Z"
    },
    "papermill": {
     "duration": 0.193482,
     "end_time": "2024-02-13T13:27:05.226122",
     "exception": false,
     "start_time": "2024-02-13T13:27:05.032640",
     "status": "completed"
    },
    "tags": []
   },
   "outputs": [
    {
     "data": {
      "text/html": [
       "<style type=\"text/css\">\n",
       "#T_40eeb_row0_col0, #T_40eeb_row1_col1, #T_40eeb_row2_col2, #T_40eeb_row3_col3, #T_40eeb_row4_col4, #T_40eeb_row5_col5, #T_40eeb_row6_col6, #T_40eeb_row7_col7, #T_40eeb_row8_col8, #T_40eeb_row9_col9, #T_40eeb_row10_col10, #T_40eeb_row11_col11, #T_40eeb_row12_col12, #T_40eeb_row13_col13, #T_40eeb_row14_col14, #T_40eeb_row15_col15, #T_40eeb_row16_col16 {\n",
       "  background-color: #3f007d;\n",
       "  color: #f1f1f1;\n",
       "}\n",
       "#T_40eeb_row0_col1, #T_40eeb_row5_col1 {\n",
       "  background-color: #b2b2d5;\n",
       "  color: #000000;\n",
       "}\n",
       "#T_40eeb_row0_col2 {\n",
       "  background-color: #7a71b4;\n",
       "  color: #f1f1f1;\n",
       "}\n",
       "#T_40eeb_row0_col3, #T_40eeb_row5_col4, #T_40eeb_row8_col0, #T_40eeb_row16_col0 {\n",
       "  background-color: #d4d4e8;\n",
       "  color: #000000;\n",
       "}\n",
       "#T_40eeb_row0_col4 {\n",
       "  background-color: #dedded;\n",
       "  color: #000000;\n",
       "}\n",
       "#T_40eeb_row0_col5, #T_40eeb_row0_col7, #T_40eeb_row0_col10, #T_40eeb_row8_col14, #T_40eeb_row10_col11, #T_40eeb_row13_col6, #T_40eeb_row15_col0 {\n",
       "  background-color: #efedf5;\n",
       "  color: #000000;\n",
       "}\n",
       "#T_40eeb_row0_col6, #T_40eeb_row1_col12, #T_40eeb_row1_col13, #T_40eeb_row1_col15, #T_40eeb_row3_col11, #T_40eeb_row3_col14, #T_40eeb_row6_col0, #T_40eeb_row8_col9, #T_40eeb_row10_col9, #T_40eeb_row11_col2, #T_40eeb_row11_col4, #T_40eeb_row11_col5, #T_40eeb_row11_col8, #T_40eeb_row12_col8, #T_40eeb_row13_col9, #T_40eeb_row14_col3, #T_40eeb_row14_col7, #T_40eeb_row14_col9, #T_40eeb_row14_col10, #T_40eeb_row14_col16, #T_40eeb_row15_col1, #T_40eeb_row15_col9, #T_40eeb_row16_col7 {\n",
       "  background-color: #fcfbfd;\n",
       "  color: #000000;\n",
       "}\n",
       "#T_40eeb_row0_col8, #T_40eeb_row4_col7, #T_40eeb_row15_col10 {\n",
       "  background-color: #eeecf4;\n",
       "  color: #000000;\n",
       "}\n",
       "#T_40eeb_row0_col9 {\n",
       "  background-color: #f3f2f8;\n",
       "  color: #000000;\n",
       "}\n",
       "#T_40eeb_row0_col11, #T_40eeb_row1_col2, #T_40eeb_row5_col7, #T_40eeb_row16_col11 {\n",
       "  background-color: #f1f0f6;\n",
       "  color: #000000;\n",
       "}\n",
       "#T_40eeb_row0_col12, #T_40eeb_row10_col1, #T_40eeb_row16_col8 {\n",
       "  background-color: #bebfdd;\n",
       "  color: #000000;\n",
       "}\n",
       "#T_40eeb_row0_col13, #T_40eeb_row0_col15, #T_40eeb_row7_col0, #T_40eeb_row14_col0, #T_40eeb_row16_col6 {\n",
       "  background-color: #d5d5e9;\n",
       "  color: #000000;\n",
       "}\n",
       "#T_40eeb_row0_col14, #T_40eeb_row9_col3, #T_40eeb_row9_col13, #T_40eeb_row10_col8, #T_40eeb_row10_col13 {\n",
       "  background-color: #e0e0ee;\n",
       "  color: #000000;\n",
       "}\n",
       "#T_40eeb_row0_col16, #T_40eeb_row6_col4, #T_40eeb_row6_col16, #T_40eeb_row12_col7, #T_40eeb_row13_col12 {\n",
       "  background-color: #e5e4f0;\n",
       "  color: #000000;\n",
       "}\n",
       "#T_40eeb_row1_col0, #T_40eeb_row4_col15 {\n",
       "  background-color: #cecfe5;\n",
       "  color: #000000;\n",
       "}\n",
       "#T_40eeb_row1_col3 {\n",
       "  background-color: #aaa8d0;\n",
       "  color: #000000;\n",
       "}\n",
       "#T_40eeb_row1_col4 {\n",
       "  background-color: #babadb;\n",
       "  color: #000000;\n",
       "}\n",
       "#T_40eeb_row1_col5, #T_40eeb_row6_col10, #T_40eeb_row9_col11, #T_40eeb_row12_col6, #T_40eeb_row16_col13 {\n",
       "  background-color: #e8e6f2;\n",
       "  color: #000000;\n",
       "}\n",
       "#T_40eeb_row1_col6, #T_40eeb_row13_col0 {\n",
       "  background-color: #d2d2e7;\n",
       "  color: #000000;\n",
       "}\n",
       "#T_40eeb_row1_col7, #T_40eeb_row11_col10, #T_40eeb_row13_col8 {\n",
       "  background-color: #f8f6fa;\n",
       "  color: #000000;\n",
       "}\n",
       "#T_40eeb_row1_col8, #T_40eeb_row5_col13, #T_40eeb_row13_col14, #T_40eeb_row14_col12, #T_40eeb_row16_col10 {\n",
       "  background-color: #dadaeb;\n",
       "  color: #000000;\n",
       "}\n",
       "#T_40eeb_row1_col9, #T_40eeb_row6_col8 {\n",
       "  background-color: #f4f2f8;\n",
       "  color: #000000;\n",
       "}\n",
       "#T_40eeb_row1_col10 {\n",
       "  background-color: #f4f3f8;\n",
       "  color: #000000;\n",
       "}\n",
       "#T_40eeb_row1_col11, #T_40eeb_row3_col9, #T_40eeb_row5_col11, #T_40eeb_row13_col10 {\n",
       "  background-color: #f6f4f9;\n",
       "  color: #000000;\n",
       "}\n",
       "#T_40eeb_row1_col14, #T_40eeb_row3_col12, #T_40eeb_row4_col12, #T_40eeb_row6_col12, #T_40eeb_row7_col14, #T_40eeb_row8_col12, #T_40eeb_row9_col7, #T_40eeb_row11_col7, #T_40eeb_row11_col16 {\n",
       "  background-color: #f2f0f7;\n",
       "  color: #000000;\n",
       "}\n",
       "#T_40eeb_row1_col16 {\n",
       "  background-color: #b8b8d9;\n",
       "  color: #000000;\n",
       "}\n",
       "#T_40eeb_row2_col0 {\n",
       "  background-color: #705eaa;\n",
       "  color: #f1f1f1;\n",
       "}\n",
       "#T_40eeb_row2_col1 {\n",
       "  background-color: #bcbddc;\n",
       "  color: #000000;\n",
       "}\n",
       "#T_40eeb_row2_col3, #T_40eeb_row3_col16 {\n",
       "  background-color: #9995c6;\n",
       "  color: #f1f1f1;\n",
       "}\n",
       "#T_40eeb_row2_col4, #T_40eeb_row5_col15 {\n",
       "  background-color: #c3c4e0;\n",
       "  color: #000000;\n",
       "}\n",
       "#T_40eeb_row2_col5, #T_40eeb_row12_col11 {\n",
       "  background-color: #e1e0ee;\n",
       "  color: #000000;\n",
       "}\n",
       "#T_40eeb_row2_col6, #T_40eeb_row3_col7, #T_40eeb_row4_col14, #T_40eeb_row7_col4, #T_40eeb_row9_col12, #T_40eeb_row11_col14, #T_40eeb_row13_col1, #T_40eeb_row15_col11, #T_40eeb_row15_col12 {\n",
       "  background-color: #e6e5f1;\n",
       "  color: #000000;\n",
       "}\n",
       "#T_40eeb_row2_col7 {\n",
       "  background-color: #d6d6e9;\n",
       "  color: #000000;\n",
       "}\n",
       "#T_40eeb_row2_col8, #T_40eeb_row8_col2, #T_40eeb_row9_col2, #T_40eeb_row13_col2 {\n",
       "  background-color: #eae9f3;\n",
       "  color: #000000;\n",
       "}\n",
       "#T_40eeb_row2_col9, #T_40eeb_row9_col5, #T_40eeb_row13_col16, #T_40eeb_row15_col7, #T_40eeb_row15_col16, #T_40eeb_row16_col12 {\n",
       "  background-color: #f3f1f7;\n",
       "  color: #000000;\n",
       "}\n",
       "#T_40eeb_row2_col10, #T_40eeb_row5_col6 {\n",
       "  background-color: #dbdbec;\n",
       "  color: #000000;\n",
       "}\n",
       "#T_40eeb_row2_col11, #T_40eeb_row6_col14, #T_40eeb_row8_col11, #T_40eeb_row9_col8, #T_40eeb_row15_col5 {\n",
       "  background-color: #f5f3f8;\n",
       "  color: #000000;\n",
       "}\n",
       "#T_40eeb_row2_col12 {\n",
       "  background-color: #b3b3d6;\n",
       "  color: #000000;\n",
       "}\n",
       "#T_40eeb_row2_col13, #T_40eeb_row4_col6, #T_40eeb_row4_col8, #T_40eeb_row7_col13, #T_40eeb_row10_col0 {\n",
       "  background-color: #d3d3e8;\n",
       "  color: #000000;\n",
       "}\n",
       "#T_40eeb_row2_col14, #T_40eeb_row5_col14, #T_40eeb_row6_col5, #T_40eeb_row6_col13, #T_40eeb_row7_col5, #T_40eeb_row10_col14, #T_40eeb_row12_col3, #T_40eeb_row13_col3 {\n",
       "  background-color: #f1eff6;\n",
       "  color: #000000;\n",
       "}\n",
       "#T_40eeb_row2_col15, #T_40eeb_row16_col15 {\n",
       "  background-color: #c9c9e2;\n",
       "  color: #000000;\n",
       "}\n",
       "#T_40eeb_row2_col16, #T_40eeb_row8_col10 {\n",
       "  background-color: #e2e2ef;\n",
       "  color: #000000;\n",
       "}\n",
       "#T_40eeb_row3_col0 {\n",
       "  background-color: #c7c8e1;\n",
       "  color: #000000;\n",
       "}\n",
       "#T_40eeb_row3_col1 {\n",
       "  background-color: #8c88bf;\n",
       "  color: #f1f1f1;\n",
       "}\n",
       "#T_40eeb_row3_col2 {\n",
       "  background-color: #a6a3cd;\n",
       "  color: #f1f1f1;\n",
       "}\n",
       "#T_40eeb_row3_col4 {\n",
       "  background-color: #8986be;\n",
       "  color: #f1f1f1;\n",
       "}\n",
       "#T_40eeb_row3_col5, #T_40eeb_row10_col4 {\n",
       "  background-color: #cccce4;\n",
       "  color: #000000;\n",
       "}\n",
       "#T_40eeb_row3_col6, #T_40eeb_row4_col16 {\n",
       "  background-color: #afaed4;\n",
       "  color: #000000;\n",
       "}\n",
       "#T_40eeb_row3_col8, #T_40eeb_row6_col1 {\n",
       "  background-color: #b6b6d8;\n",
       "  color: #000000;\n",
       "}\n",
       "#T_40eeb_row3_col10, #T_40eeb_row5_col3 {\n",
       "  background-color: #bebedd;\n",
       "  color: #000000;\n",
       "}\n",
       "#T_40eeb_row3_col13, #T_40eeb_row9_col4, #T_40eeb_row14_col11 {\n",
       "  background-color: #eae8f2;\n",
       "  color: #000000;\n",
       "}\n",
       "#T_40eeb_row3_col15, #T_40eeb_row12_col2, #T_40eeb_row15_col13 {\n",
       "  background-color: #c0c1de;\n",
       "  color: #000000;\n",
       "}\n",
       "#T_40eeb_row4_col0, #T_40eeb_row10_col16 {\n",
       "  background-color: #cbcbe3;\n",
       "  color: #000000;\n",
       "}\n",
       "#T_40eeb_row4_col1 {\n",
       "  background-color: #9390c3;\n",
       "  color: #f1f1f1;\n",
       "}\n",
       "#T_40eeb_row4_col2, #T_40eeb_row14_col1 {\n",
       "  background-color: #cecee5;\n",
       "  color: #000000;\n",
       "}\n",
       "#T_40eeb_row4_col3 {\n",
       "  background-color: #8582bc;\n",
       "  color: #f1f1f1;\n",
       "}\n",
       "#T_40eeb_row4_col5, #T_40eeb_row10_col12, #T_40eeb_row12_col1, #T_40eeb_row12_col13 {\n",
       "  background-color: #dcdcec;\n",
       "  color: #000000;\n",
       "}\n",
       "#T_40eeb_row4_col9, #T_40eeb_row12_col5, #T_40eeb_row15_col8 {\n",
       "  background-color: #f8f7fa;\n",
       "  color: #000000;\n",
       "}\n",
       "#T_40eeb_row4_col10, #T_40eeb_row7_col12, #T_40eeb_row10_col2, #T_40eeb_row11_col6, #T_40eeb_row12_col14 {\n",
       "  background-color: #d9d9ea;\n",
       "  color: #000000;\n",
       "}\n",
       "#T_40eeb_row4_col11, #T_40eeb_row5_col9, #T_40eeb_row6_col9, #T_40eeb_row7_col8, #T_40eeb_row8_col7, #T_40eeb_row14_col2 {\n",
       "  background-color: #fbfafc;\n",
       "  color: #000000;\n",
       "}\n",
       "#T_40eeb_row4_col13, #T_40eeb_row8_col6, #T_40eeb_row9_col6 {\n",
       "  background-color: #ddddec;\n",
       "  color: #000000;\n",
       "}\n",
       "#T_40eeb_row5_col0, #T_40eeb_row7_col3 {\n",
       "  background-color: #d8d8ea;\n",
       "  color: #000000;\n",
       "}\n",
       "#T_40eeb_row5_col2, #T_40eeb_row5_col8 {\n",
       "  background-color: #e3e2ef;\n",
       "  color: #000000;\n",
       "}\n",
       "#T_40eeb_row5_col10, #T_40eeb_row5_col12, #T_40eeb_row16_col5 {\n",
       "  background-color: #f0eef6;\n",
       "  color: #000000;\n",
       "}\n",
       "#T_40eeb_row5_col16, #T_40eeb_row7_col11, #T_40eeb_row9_col14 {\n",
       "  background-color: #e9e8f2;\n",
       "  color: #000000;\n",
       "}\n",
       "#T_40eeb_row6_col2, #T_40eeb_row16_col9 {\n",
       "  background-color: #faf9fc;\n",
       "  color: #000000;\n",
       "}\n",
       "#T_40eeb_row6_col3 {\n",
       "  background-color: #bbbbdb;\n",
       "  color: #000000;\n",
       "}\n",
       "#T_40eeb_row6_col7, #T_40eeb_row8_col13, #T_40eeb_row11_col0, #T_40eeb_row15_col14 {\n",
       "  background-color: #e4e3f0;\n",
       "  color: #000000;\n",
       "}\n",
       "#T_40eeb_row6_col11 {\n",
       "  background-color: #e7e6f1;\n",
       "  color: #000000;\n",
       "}\n",
       "#T_40eeb_row6_col15 {\n",
       "  background-color: #b0afd4;\n",
       "  color: #000000;\n",
       "}\n",
       "#T_40eeb_row7_col1, #T_40eeb_row8_col15 {\n",
       "  background-color: #c6c7e1;\n",
       "  color: #000000;\n",
       "}\n",
       "#T_40eeb_row7_col2 {\n",
       "  background-color: #d7d7e9;\n",
       "  color: #000000;\n",
       "}\n",
       "#T_40eeb_row7_col6 {\n",
       "  background-color: #c8c8e2;\n",
       "  color: #000000;\n",
       "}\n",
       "#T_40eeb_row7_col9, #T_40eeb_row14_col5 {\n",
       "  background-color: #f9f8fb;\n",
       "  color: #000000;\n",
       "}\n",
       "#T_40eeb_row7_col10, #T_40eeb_row12_col10, #T_40eeb_row13_col4, #T_40eeb_row13_col7, #T_40eeb_row13_col11 {\n",
       "  background-color: #ebe9f3;\n",
       "  color: #000000;\n",
       "}\n",
       "#T_40eeb_row7_col15 {\n",
       "  background-color: #bfc0de;\n",
       "  color: #000000;\n",
       "}\n",
       "#T_40eeb_row7_col16, #T_40eeb_row12_col4, #T_40eeb_row12_col16 {\n",
       "  background-color: #f5f4f9;\n",
       "  color: #000000;\n",
       "}\n",
       "#T_40eeb_row8_col1, #T_40eeb_row13_col15 {\n",
       "  background-color: #a4a1cc;\n",
       "  color: #f1f1f1;\n",
       "}\n",
       "#T_40eeb_row8_col3 {\n",
       "  background-color: #a8a6cf;\n",
       "  color: #f1f1f1;\n",
       "}\n",
       "#T_40eeb_row8_col4, #T_40eeb_row10_col6 {\n",
       "  background-color: #cacae3;\n",
       "  color: #000000;\n",
       "}\n",
       "#T_40eeb_row8_col5 {\n",
       "  background-color: #e2e1ef;\n",
       "  color: #000000;\n",
       "}\n",
       "#T_40eeb_row8_col16, #T_40eeb_row10_col15 {\n",
       "  background-color: #b4b4d7;\n",
       "  color: #000000;\n",
       "}\n",
       "#T_40eeb_row9_col0 {\n",
       "  background-color: #d1d2e7;\n",
       "  color: #000000;\n",
       "}\n",
       "#T_40eeb_row9_col1 {\n",
       "  background-color: #b5b5d7;\n",
       "  color: #000000;\n",
       "}\n",
       "#T_40eeb_row9_col10, #T_40eeb_row15_col4 {\n",
       "  background-color: #f7f5fa;\n",
       "  color: #000000;\n",
       "}\n",
       "#T_40eeb_row9_col15 {\n",
       "  background-color: #c1c2df;\n",
       "  color: #000000;\n",
       "}\n",
       "#T_40eeb_row9_col16, #T_40eeb_row16_col2 {\n",
       "  background-color: #eceaf3;\n",
       "  color: #000000;\n",
       "}\n",
       "#T_40eeb_row10_col3 {\n",
       "  background-color: #adabd2;\n",
       "  color: #000000;\n",
       "}\n",
       "#T_40eeb_row10_col5 {\n",
       "  background-color: #edebf4;\n",
       "  color: #000000;\n",
       "}\n",
       "#T_40eeb_row10_col7, #T_40eeb_row15_col3 {\n",
       "  background-color: #e8e7f2;\n",
       "  color: #000000;\n",
       "}\n",
       "#T_40eeb_row11_col1 {\n",
       "  background-color: #cfd0e6;\n",
       "  color: #000000;\n",
       "}\n",
       "#T_40eeb_row11_col3, #T_40eeb_row14_col8, #T_40eeb_row15_col2 {\n",
       "  background-color: #faf8fb;\n",
       "  color: #000000;\n",
       "}\n",
       "#T_40eeb_row11_col9 {\n",
       "  background-color: #f8f7fb;\n",
       "  color: #000000;\n",
       "}\n",
       "#T_40eeb_row11_col12, #T_40eeb_row11_col13 {\n",
       "  background-color: #dfdfed;\n",
       "  color: #000000;\n",
       "}\n",
       "#T_40eeb_row11_col15 {\n",
       "  background-color: #b9b9da;\n",
       "  color: #000000;\n",
       "}\n",
       "#T_40eeb_row12_col0, #T_40eeb_row16_col4 {\n",
       "  background-color: #b1b1d5;\n",
       "  color: #000000;\n",
       "}\n",
       "#T_40eeb_row12_col9, #T_40eeb_row16_col14 {\n",
       "  background-color: #f9f7fb;\n",
       "  color: #000000;\n",
       "}\n",
       "#T_40eeb_row12_col15, #T_40eeb_row14_col15 {\n",
       "  background-color: #bdbedc;\n",
       "  color: #000000;\n",
       "}\n",
       "#T_40eeb_row13_col5 {\n",
       "  background-color: #eeecf5;\n",
       "  color: #000000;\n",
       "}\n",
       "#T_40eeb_row14_col4, #T_40eeb_row14_col6 {\n",
       "  background-color: #ecebf4;\n",
       "  color: #000000;\n",
       "}\n",
       "#T_40eeb_row14_col13 {\n",
       "  background-color: #d0d1e6;\n",
       "  color: #000000;\n",
       "}\n",
       "#T_40eeb_row15_col6 {\n",
       "  background-color: #cdcde4;\n",
       "  color: #000000;\n",
       "}\n",
       "#T_40eeb_row16_col1 {\n",
       "  background-color: #928fc3;\n",
       "  color: #f1f1f1;\n",
       "}\n",
       "#T_40eeb_row16_col3 {\n",
       "  background-color: #9591c4;\n",
       "  color: #f1f1f1;\n",
       "}\n",
       "</style>\n",
       "<table id=\"T_40eeb\">\n",
       "  <thead>\n",
       "    <tr>\n",
       "      <th class=\"blank level0\" >&nbsp;</th>\n",
       "      <th id=\"T_40eeb_level0_col0\" class=\"col_heading level0 col0\" >Gender</th>\n",
       "      <th id=\"T_40eeb_level0_col1\" class=\"col_heading level0 col1\" >Age</th>\n",
       "      <th id=\"T_40eeb_level0_col2\" class=\"col_heading level0 col2\" >Height</th>\n",
       "      <th id=\"T_40eeb_level0_col3\" class=\"col_heading level0 col3\" >Weight</th>\n",
       "      <th id=\"T_40eeb_level0_col4\" class=\"col_heading level0 col4\" >family_history_with_overweight</th>\n",
       "      <th id=\"T_40eeb_level0_col5\" class=\"col_heading level0 col5\" >FAVC</th>\n",
       "      <th id=\"T_40eeb_level0_col6\" class=\"col_heading level0 col6\" >FCVC</th>\n",
       "      <th id=\"T_40eeb_level0_col7\" class=\"col_heading level0 col7\" >NCP</th>\n",
       "      <th id=\"T_40eeb_level0_col8\" class=\"col_heading level0 col8\" >CAEC</th>\n",
       "      <th id=\"T_40eeb_level0_col9\" class=\"col_heading level0 col9\" >SMOKE</th>\n",
       "      <th id=\"T_40eeb_level0_col10\" class=\"col_heading level0 col10\" >CH2O</th>\n",
       "      <th id=\"T_40eeb_level0_col11\" class=\"col_heading level0 col11\" >SCC</th>\n",
       "      <th id=\"T_40eeb_level0_col12\" class=\"col_heading level0 col12\" >FAF</th>\n",
       "      <th id=\"T_40eeb_level0_col13\" class=\"col_heading level0 col13\" >TUE</th>\n",
       "      <th id=\"T_40eeb_level0_col14\" class=\"col_heading level0 col14\" >CALC</th>\n",
       "      <th id=\"T_40eeb_level0_col15\" class=\"col_heading level0 col15\" >MTRANS</th>\n",
       "      <th id=\"T_40eeb_level0_col16\" class=\"col_heading level0 col16\" >NObeyesdad</th>\n",
       "    </tr>\n",
       "  </thead>\n",
       "  <tbody>\n",
       "    <tr>\n",
       "      <th id=\"T_40eeb_level0_row0\" class=\"row_heading level0 row0\" >Gender</th>\n",
       "      <td id=\"T_40eeb_row0_col0\" class=\"data row0 col0\" >1.000000</td>\n",
       "      <td id=\"T_40eeb_row0_col1\" class=\"data row0 col1\" >0.077013</td>\n",
       "      <td id=\"T_40eeb_row0_col2\" class=\"data row0 col2\" >0.623288</td>\n",
       "      <td id=\"T_40eeb_row0_col3\" class=\"data row0 col3\" >0.116476</td>\n",
       "      <td id=\"T_40eeb_row0_col4\" class=\"data row0 col4\" >0.098264</td>\n",
       "      <td id=\"T_40eeb_row0_col5\" class=\"data row0 col5\" >0.023884</td>\n",
       "      <td id=\"T_40eeb_row0_col6\" class=\"data row0 col6\" >-0.316859</td>\n",
       "      <td id=\"T_40eeb_row0_col7\" class=\"data row0 col7\" >0.038122</td>\n",
       "      <td id=\"T_40eeb_row0_col8\" class=\"data row0 col8\" >0.047414</td>\n",
       "      <td id=\"T_40eeb_row0_col9\" class=\"data row0 col9\" >0.063480</td>\n",
       "      <td id=\"T_40eeb_row0_col10\" class=\"data row0 col10\" >0.049566</td>\n",
       "      <td id=\"T_40eeb_row0_col11\" class=\"data row0 col11\" >-0.062025</td>\n",
       "      <td id=\"T_40eeb_row0_col12\" class=\"data row0 col12\" >0.236206</td>\n",
       "      <td id=\"T_40eeb_row0_col13\" class=\"data row0 col13\" >0.056490</td>\n",
       "      <td id=\"T_40eeb_row0_col14\" class=\"data row0 col14\" >0.038924</td>\n",
       "      <td id=\"T_40eeb_row0_col15\" class=\"data row0 col15\" >-0.149956</td>\n",
       "      <td id=\"T_40eeb_row0_col16\" class=\"data row0 col16\" >0.043517</td>\n",
       "    </tr>\n",
       "    <tr>\n",
       "      <th id=\"T_40eeb_level0_row1\" class=\"row_heading level0 row1\" >Age</th>\n",
       "      <td id=\"T_40eeb_row1_col0\" class=\"data row1 col0\" >0.077013</td>\n",
       "      <td id=\"T_40eeb_row1_col1\" class=\"data row1 col1\" >1.000000</td>\n",
       "      <td id=\"T_40eeb_row1_col2\" class=\"data row1 col2\" >0.016653</td>\n",
       "      <td id=\"T_40eeb_row1_col3\" class=\"data row1 col3\" >0.331638</td>\n",
       "      <td id=\"T_40eeb_row1_col4\" class=\"data row1 col4\" >0.279787</td>\n",
       "      <td id=\"T_40eeb_row1_col5\" class=\"data row1 col5\" >0.075390</td>\n",
       "      <td id=\"T_40eeb_row1_col6\" class=\"data row1 col6\" >0.054800</td>\n",
       "      <td id=\"T_40eeb_row1_col7\" class=\"data row1 col7\" >-0.049591</td>\n",
       "      <td id=\"T_40eeb_row1_col8\" class=\"data row1 col8\" >0.171856</td>\n",
       "      <td id=\"T_40eeb_row1_col9\" class=\"data row1 col9\" >0.059356</td>\n",
       "      <td id=\"T_40eeb_row1_col10\" class=\"data row1 col10\" >-0.000635</td>\n",
       "      <td id=\"T_40eeb_row1_col11\" class=\"data row1 col11\" >-0.115933</td>\n",
       "      <td id=\"T_40eeb_row1_col12\" class=\"data row1 col12\" >-0.205918</td>\n",
       "      <td id=\"T_40eeb_row1_col13\" class=\"data row1 col13\" >-0.292343</td>\n",
       "      <td id=\"T_40eeb_row1_col14\" class=\"data row1 col14\" >-0.101535</td>\n",
       "      <td id=\"T_40eeb_row1_col15\" class=\"data row1 col15\" >-0.579166</td>\n",
       "      <td id=\"T_40eeb_row1_col16\" class=\"data row1 col16\" >0.286987</td>\n",
       "    </tr>\n",
       "    <tr>\n",
       "      <th id=\"T_40eeb_level0_row2\" class=\"row_heading level0 row2\" >Height</th>\n",
       "      <td id=\"T_40eeb_row2_col0\" class=\"data row2 col0\" >0.623288</td>\n",
       "      <td id=\"T_40eeb_row2_col1\" class=\"data row2 col1\" >0.016653</td>\n",
       "      <td id=\"T_40eeb_row2_col2\" class=\"data row2 col2\" >1.000000</td>\n",
       "      <td id=\"T_40eeb_row2_col3\" class=\"data row2 col3\" >0.416523</td>\n",
       "      <td id=\"T_40eeb_row2_col4\" class=\"data row2 col4\" >0.234027</td>\n",
       "      <td id=\"T_40eeb_row2_col5\" class=\"data row2 col5\" >0.118350</td>\n",
       "      <td id=\"T_40eeb_row2_col6\" class=\"data row2 col6\" >-0.076302</td>\n",
       "      <td id=\"T_40eeb_row2_col7\" class=\"data row2 col7\" >0.192351</td>\n",
       "      <td id=\"T_40eeb_row2_col8\" class=\"data row2 col8\" >0.069807</td>\n",
       "      <td id=\"T_40eeb_row2_col9\" class=\"data row2 col9\" >0.070146</td>\n",
       "      <td id=\"T_40eeb_row2_col10\" class=\"data row2 col10\" >0.180655</td>\n",
       "      <td id=\"T_40eeb_row2_col11\" class=\"data row2 col11\" >-0.098246</td>\n",
       "      <td id=\"T_40eeb_row2_col12\" class=\"data row2 col12\" >0.292576</td>\n",
       "      <td id=\"T_40eeb_row2_col13\" class=\"data row2 col13\" >0.069942</td>\n",
       "      <td id=\"T_40eeb_row2_col14\" class=\"data row2 col14\" >-0.086695</td>\n",
       "      <td id=\"T_40eeb_row2_col15\" class=\"data row2 col15\" >-0.068507</td>\n",
       "      <td id=\"T_40eeb_row2_col16\" class=\"data row2 col16\" >0.061422</td>\n",
       "    </tr>\n",
       "    <tr>\n",
       "      <th id=\"T_40eeb_level0_row3\" class=\"row_heading level0 row3\" >Weight</th>\n",
       "      <td id=\"T_40eeb_row3_col0\" class=\"data row3 col0\" >0.116476</td>\n",
       "      <td id=\"T_40eeb_row3_col1\" class=\"data row3 col1\" >0.331638</td>\n",
       "      <td id=\"T_40eeb_row3_col2\" class=\"data row3 col2\" >0.416523</td>\n",
       "      <td id=\"T_40eeb_row3_col3\" class=\"data row3 col3\" >1.000000</td>\n",
       "      <td id=\"T_40eeb_row3_col4\" class=\"data row3 col4\" >0.517298</td>\n",
       "      <td id=\"T_40eeb_row3_col5\" class=\"data row3 col5\" >0.231351</td>\n",
       "      <td id=\"T_40eeb_row3_col6\" class=\"data row3 col6\" >0.246588</td>\n",
       "      <td id=\"T_40eeb_row3_col7\" class=\"data row3 col7\" >0.096381</td>\n",
       "      <td id=\"T_40eeb_row3_col8\" class=\"data row3 col8\" >0.339432</td>\n",
       "      <td id=\"T_40eeb_row3_col9\" class=\"data row3 col9\" >0.039892</td>\n",
       "      <td id=\"T_40eeb_row3_col10\" class=\"data row3 col10\" >0.319383</td>\n",
       "      <td id=\"T_40eeb_row3_col11\" class=\"data row3 col11\" >-0.185694</td>\n",
       "      <td id=\"T_40eeb_row3_col12\" class=\"data row3 col12\" >-0.086866</td>\n",
       "      <td id=\"T_40eeb_row3_col13\" class=\"data row3 col13\" >-0.089590</td>\n",
       "      <td id=\"T_40eeb_row3_col14\" class=\"data row3 col14\" >-0.218114</td>\n",
       "      <td id=\"T_40eeb_row3_col15\" class=\"data row3 col15\" >-0.013573</td>\n",
       "      <td id=\"T_40eeb_row3_col16\" class=\"data row3 col16\" >0.437533</td>\n",
       "    </tr>\n",
       "    <tr>\n",
       "      <th id=\"T_40eeb_level0_row4\" class=\"row_heading level0 row4\" >family_history_with_overweight</th>\n",
       "      <td id=\"T_40eeb_row4_col0\" class=\"data row4 col0\" >0.098264</td>\n",
       "      <td id=\"T_40eeb_row4_col1\" class=\"data row4 col1\" >0.279787</td>\n",
       "      <td id=\"T_40eeb_row4_col2\" class=\"data row4 col2\" >0.234027</td>\n",
       "      <td id=\"T_40eeb_row4_col3\" class=\"data row4 col3\" >0.517298</td>\n",
       "      <td id=\"T_40eeb_row4_col4\" class=\"data row4 col4\" >1.000000</td>\n",
       "      <td id=\"T_40eeb_row4_col5\" class=\"data row4 col5\" >0.154160</td>\n",
       "      <td id=\"T_40eeb_row4_col6\" class=\"data row4 col6\" >0.050068</td>\n",
       "      <td id=\"T_40eeb_row4_col7\" class=\"data row4 col7\" >0.046801</td>\n",
       "      <td id=\"T_40eeb_row4_col8\" class=\"data row4 col8\" >0.205937</td>\n",
       "      <td id=\"T_40eeb_row4_col9\" class=\"data row4 col9\" >0.018248</td>\n",
       "      <td id=\"T_40eeb_row4_col10\" class=\"data row4 col10\" >0.195346</td>\n",
       "      <td id=\"T_40eeb_row4_col11\" class=\"data row4 col11\" >-0.167337</td>\n",
       "      <td id=\"T_40eeb_row4_col12\" class=\"data row4 col12\" >-0.092809</td>\n",
       "      <td id=\"T_40eeb_row4_col13\" class=\"data row4 col13\" >0.009705</td>\n",
       "      <td id=\"T_40eeb_row4_col14\" class=\"data row4 col14\" >0.000859</td>\n",
       "      <td id=\"T_40eeb_row4_col15\" class=\"data row4 col15\" >-0.104615</td>\n",
       "      <td id=\"T_40eeb_row4_col16\" class=\"data row4 col16\" >0.325005</td>\n",
       "    </tr>\n",
       "    <tr>\n",
       "      <th id=\"T_40eeb_level0_row5\" class=\"row_heading level0 row5\" >FAVC</th>\n",
       "      <td id=\"T_40eeb_row5_col0\" class=\"data row5 col0\" >0.023884</td>\n",
       "      <td id=\"T_40eeb_row5_col1\" class=\"data row5 col1\" >0.075390</td>\n",
       "      <td id=\"T_40eeb_row5_col2\" class=\"data row5 col2\" >0.118350</td>\n",
       "      <td id=\"T_40eeb_row5_col3\" class=\"data row5 col3\" >0.231351</td>\n",
       "      <td id=\"T_40eeb_row5_col4\" class=\"data row5 col4\" >0.154160</td>\n",
       "      <td id=\"T_40eeb_row5_col5\" class=\"data row5 col5\" >1.000000</td>\n",
       "      <td id=\"T_40eeb_row5_col6\" class=\"data row5 col6\" >0.006980</td>\n",
       "      <td id=\"T_40eeb_row5_col7\" class=\"data row5 col7\" >0.011837</td>\n",
       "      <td id=\"T_40eeb_row5_col8\" class=\"data row5 col8\" >0.117108</td>\n",
       "      <td id=\"T_40eeb_row5_col9\" class=\"data row5 col9\" >-0.012478</td>\n",
       "      <td id=\"T_40eeb_row5_col10\" class=\"data row5 col10\" >0.041527</td>\n",
       "      <td id=\"T_40eeb_row5_col11\" class=\"data row5 col11\" >-0.112762</td>\n",
       "      <td id=\"T_40eeb_row5_col12\" class=\"data row5 col12\" >-0.066423</td>\n",
       "      <td id=\"T_40eeb_row5_col13\" class=\"data row5 col13\" >0.034461</td>\n",
       "      <td id=\"T_40eeb_row5_col14\" class=\"data row5 col14\" >-0.080726</td>\n",
       "      <td id=\"T_40eeb_row5_col15\" class=\"data row5 col15\" >-0.030707</td>\n",
       "      <td id=\"T_40eeb_row5_col16\" class=\"data row5 col16\" >0.013956</td>\n",
       "    </tr>\n",
       "    <tr>\n",
       "      <th id=\"T_40eeb_level0_row6\" class=\"row_heading level0 row6\" >FCVC</th>\n",
       "      <td id=\"T_40eeb_row6_col0\" class=\"data row6 col0\" >-0.316859</td>\n",
       "      <td id=\"T_40eeb_row6_col1\" class=\"data row6 col1\" >0.054800</td>\n",
       "      <td id=\"T_40eeb_row6_col2\" class=\"data row6 col2\" >-0.076302</td>\n",
       "      <td id=\"T_40eeb_row6_col3\" class=\"data row6 col3\" >0.246588</td>\n",
       "      <td id=\"T_40eeb_row6_col4\" class=\"data row6 col4\" >0.050068</td>\n",
       "      <td id=\"T_40eeb_row6_col5\" class=\"data row6 col5\" >0.006980</td>\n",
       "      <td id=\"T_40eeb_row6_col6\" class=\"data row6 col6\" >1.000000</td>\n",
       "      <td id=\"T_40eeb_row6_col7\" class=\"data row6 col7\" >0.113884</td>\n",
       "      <td id=\"T_40eeb_row6_col8\" class=\"data row6 col8\" >-0.010738</td>\n",
       "      <td id=\"T_40eeb_row6_col9\" class=\"data row6 col9\" >-0.013070</td>\n",
       "      <td id=\"T_40eeb_row6_col10\" class=\"data row6 col10\" >0.101857</td>\n",
       "      <td id=\"T_40eeb_row6_col11\" class=\"data row6 col11\" >0.020700</td>\n",
       "      <td id=\"T_40eeb_row6_col12\" class=\"data row6 col12\" >-0.091712</td>\n",
       "      <td id=\"T_40eeb_row6_col13\" class=\"data row6 col13\" >-0.152530</td>\n",
       "      <td id=\"T_40eeb_row6_col14\" class=\"data row6 col14\" >-0.130044</td>\n",
       "      <td id=\"T_40eeb_row6_col15\" class=\"data row6 col15\" >0.088224</td>\n",
       "      <td id=\"T_40eeb_row6_col16\" class=\"data row6 col16\" >0.041753</td>\n",
       "    </tr>\n",
       "    <tr>\n",
       "      <th id=\"T_40eeb_level0_row7\" class=\"row_heading level0 row7\" >NCP</th>\n",
       "      <td id=\"T_40eeb_row7_col0\" class=\"data row7 col0\" >0.038122</td>\n",
       "      <td id=\"T_40eeb_row7_col1\" class=\"data row7 col1\" >-0.049591</td>\n",
       "      <td id=\"T_40eeb_row7_col2\" class=\"data row7 col2\" >0.192351</td>\n",
       "      <td id=\"T_40eeb_row7_col3\" class=\"data row7 col3\" >0.096381</td>\n",
       "      <td id=\"T_40eeb_row7_col4\" class=\"data row7 col4\" >0.046801</td>\n",
       "      <td id=\"T_40eeb_row7_col5\" class=\"data row7 col5\" >0.011837</td>\n",
       "      <td id=\"T_40eeb_row7_col6\" class=\"data row7 col6\" >0.113884</td>\n",
       "      <td id=\"T_40eeb_row7_col7\" class=\"data row7 col7\" >1.000000</td>\n",
       "      <td id=\"T_40eeb_row7_col8\" class=\"data row7 col8\" >-0.089964</td>\n",
       "      <td id=\"T_40eeb_row7_col9\" class=\"data row7 col9\" >0.007116</td>\n",
       "      <td id=\"T_40eeb_row7_col10\" class=\"data row7 col10\" >0.082255</td>\n",
       "      <td id=\"T_40eeb_row7_col11\" class=\"data row7 col11\" >0.006074</td>\n",
       "      <td id=\"T_40eeb_row7_col12\" class=\"data row7 col12\" >0.101497</td>\n",
       "      <td id=\"T_40eeb_row7_col13\" class=\"data row7 col13\" >0.066190</td>\n",
       "      <td id=\"T_40eeb_row7_col14\" class=\"data row7 col14\" >-0.100695</td>\n",
       "      <td id=\"T_40eeb_row7_col15\" class=\"data row7 col15\" >-0.006084</td>\n",
       "      <td id=\"T_40eeb_row7_col16\" class=\"data row7 col16\" >-0.093327</td>\n",
       "    </tr>\n",
       "    <tr>\n",
       "      <th id=\"T_40eeb_level0_row8\" class=\"row_heading level0 row8\" >CAEC</th>\n",
       "      <td id=\"T_40eeb_row8_col0\" class=\"data row8 col0\" >0.047414</td>\n",
       "      <td id=\"T_40eeb_row8_col1\" class=\"data row8 col1\" >0.171856</td>\n",
       "      <td id=\"T_40eeb_row8_col2\" class=\"data row8 col2\" >0.069807</td>\n",
       "      <td id=\"T_40eeb_row8_col3\" class=\"data row8 col3\" >0.339432</td>\n",
       "      <td id=\"T_40eeb_row8_col4\" class=\"data row8 col4\" >0.205937</td>\n",
       "      <td id=\"T_40eeb_row8_col5\" class=\"data row8 col5\" >0.117108</td>\n",
       "      <td id=\"T_40eeb_row8_col6\" class=\"data row8 col6\" >-0.010738</td>\n",
       "      <td id=\"T_40eeb_row8_col7\" class=\"data row8 col7\" >-0.089964</td>\n",
       "      <td id=\"T_40eeb_row8_col8\" class=\"data row8 col8\" >1.000000</td>\n",
       "      <td id=\"T_40eeb_row8_col9\" class=\"data row8 col9\" >-0.018965</td>\n",
       "      <td id=\"T_40eeb_row8_col10\" class=\"data row8 col10\" >0.135580</td>\n",
       "      <td id=\"T_40eeb_row8_col11\" class=\"data row8 col11\" >-0.099384</td>\n",
       "      <td id=\"T_40eeb_row8_col12\" class=\"data row8 col12\" >-0.091545</td>\n",
       "      <td id=\"T_40eeb_row8_col13\" class=\"data row8 col13\" >-0.049765</td>\n",
       "      <td id=\"T_40eeb_row8_col14\" class=\"data row8 col14\" >-0.070259</td>\n",
       "      <td id=\"T_40eeb_row8_col15\" class=\"data row8 col15\" >-0.052322</td>\n",
       "      <td id=\"T_40eeb_row8_col16\" class=\"data row8 col16\" >0.302512</td>\n",
       "    </tr>\n",
       "    <tr>\n",
       "      <th id=\"T_40eeb_level0_row9\" class=\"row_heading level0 row9\" >SMOKE</th>\n",
       "      <td id=\"T_40eeb_row9_col0\" class=\"data row9 col0\" >0.063480</td>\n",
       "      <td id=\"T_40eeb_row9_col1\" class=\"data row9 col1\" >0.059356</td>\n",
       "      <td id=\"T_40eeb_row9_col2\" class=\"data row9 col2\" >0.070146</td>\n",
       "      <td id=\"T_40eeb_row9_col3\" class=\"data row9 col3\" >0.039892</td>\n",
       "      <td id=\"T_40eeb_row9_col4\" class=\"data row9 col4\" >0.018248</td>\n",
       "      <td id=\"T_40eeb_row9_col5\" class=\"data row9 col5\" >-0.012478</td>\n",
       "      <td id=\"T_40eeb_row9_col6\" class=\"data row9 col6\" >-0.013070</td>\n",
       "      <td id=\"T_40eeb_row9_col7\" class=\"data row9 col7\" >0.007116</td>\n",
       "      <td id=\"T_40eeb_row9_col8\" class=\"data row9 col8\" >-0.018965</td>\n",
       "      <td id=\"T_40eeb_row9_col9\" class=\"data row9 col9\" >1.000000</td>\n",
       "      <td id=\"T_40eeb_row9_col10\" class=\"data row9 col10\" >-0.023570</td>\n",
       "      <td id=\"T_40eeb_row9_col11\" class=\"data row9 col11\" >0.015227</td>\n",
       "      <td id=\"T_40eeb_row9_col12\" class=\"data row9 col12\" >0.008674</td>\n",
       "      <td id=\"T_40eeb_row9_col13\" class=\"data row9 col13\" >-0.016274</td>\n",
       "      <td id=\"T_40eeb_row9_col14\" class=\"data row9 col14\" >-0.022058</td>\n",
       "      <td id=\"T_40eeb_row9_col15\" class=\"data row9 col15\" >-0.021442</td>\n",
       "      <td id=\"T_40eeb_row9_col16\" class=\"data row9 col16\" >-0.001517</td>\n",
       "    </tr>\n",
       "    <tr>\n",
       "      <th id=\"T_40eeb_level0_row10\" class=\"row_heading level0 row10\" >CH2O</th>\n",
       "      <td id=\"T_40eeb_row10_col0\" class=\"data row10 col0\" >0.049566</td>\n",
       "      <td id=\"T_40eeb_row10_col1\" class=\"data row10 col1\" >-0.000635</td>\n",
       "      <td id=\"T_40eeb_row10_col2\" class=\"data row10 col2\" >0.180655</td>\n",
       "      <td id=\"T_40eeb_row10_col3\" class=\"data row10 col3\" >0.319383</td>\n",
       "      <td id=\"T_40eeb_row10_col4\" class=\"data row10 col4\" >0.195346</td>\n",
       "      <td id=\"T_40eeb_row10_col5\" class=\"data row10 col5\" >0.041527</td>\n",
       "      <td id=\"T_40eeb_row10_col6\" class=\"data row10 col6\" >0.101857</td>\n",
       "      <td id=\"T_40eeb_row10_col7\" class=\"data row10 col7\" >0.082255</td>\n",
       "      <td id=\"T_40eeb_row10_col8\" class=\"data row10 col8\" >0.135580</td>\n",
       "      <td id=\"T_40eeb_row10_col9\" class=\"data row10 col9\" >-0.023570</td>\n",
       "      <td id=\"T_40eeb_row10_col10\" class=\"data row10 col10\" >1.000000</td>\n",
       "      <td id=\"T_40eeb_row10_col11\" class=\"data row10 col11\" >-0.032855</td>\n",
       "      <td id=\"T_40eeb_row10_col12\" class=\"data row10 col12\" >0.078984</td>\n",
       "      <td id=\"T_40eeb_row10_col13\" class=\"data row10 col13\" >-0.015324</td>\n",
       "      <td id=\"T_40eeb_row10_col14\" class=\"data row10 col14\" >-0.081568</td>\n",
       "      <td id=\"T_40eeb_row10_col15\" class=\"data row10 col15\" >0.063461</td>\n",
       "      <td id=\"T_40eeb_row10_col16\" class=\"data row10 col16\" >0.191671</td>\n",
       "    </tr>\n",
       "    <tr>\n",
       "      <th id=\"T_40eeb_level0_row11\" class=\"row_heading level0 row11\" >SCC</th>\n",
       "      <td id=\"T_40eeb_row11_col0\" class=\"data row11 col0\" >-0.062025</td>\n",
       "      <td id=\"T_40eeb_row11_col1\" class=\"data row11 col1\" >-0.115933</td>\n",
       "      <td id=\"T_40eeb_row11_col2\" class=\"data row11 col2\" >-0.098246</td>\n",
       "      <td id=\"T_40eeb_row11_col3\" class=\"data row11 col3\" >-0.185694</td>\n",
       "      <td id=\"T_40eeb_row11_col4\" class=\"data row11 col4\" >-0.167337</td>\n",
       "      <td id=\"T_40eeb_row11_col5\" class=\"data row11 col5\" >-0.112762</td>\n",
       "      <td id=\"T_40eeb_row11_col6\" class=\"data row11 col6\" >0.020700</td>\n",
       "      <td id=\"T_40eeb_row11_col7\" class=\"data row11 col7\" >0.006074</td>\n",
       "      <td id=\"T_40eeb_row11_col8\" class=\"data row11 col8\" >-0.099384</td>\n",
       "      <td id=\"T_40eeb_row11_col9\" class=\"data row11 col9\" >0.015227</td>\n",
       "      <td id=\"T_40eeb_row11_col10\" class=\"data row11 col10\" >-0.032855</td>\n",
       "      <td id=\"T_40eeb_row11_col11\" class=\"data row11 col11\" >1.000000</td>\n",
       "      <td id=\"T_40eeb_row11_col12\" class=\"data row11 col12\" >0.059816</td>\n",
       "      <td id=\"T_40eeb_row11_col13\" class=\"data row11 col13\" >-0.009113</td>\n",
       "      <td id=\"T_40eeb_row11_col14\" class=\"data row11 col14\" >0.000402</td>\n",
       "      <td id=\"T_40eeb_row11_col15\" class=\"data row11 col15\" >0.031624</td>\n",
       "      <td id=\"T_40eeb_row11_col16\" class=\"data row11 col16\" >-0.065052</td>\n",
       "    </tr>\n",
       "    <tr>\n",
       "      <th id=\"T_40eeb_level0_row12\" class=\"row_heading level0 row12\" >FAF</th>\n",
       "      <td id=\"T_40eeb_row12_col0\" class=\"data row12 col0\" >0.236206</td>\n",
       "      <td id=\"T_40eeb_row12_col1\" class=\"data row12 col1\" >-0.205918</td>\n",
       "      <td id=\"T_40eeb_row12_col2\" class=\"data row12 col2\" >0.292576</td>\n",
       "      <td id=\"T_40eeb_row12_col3\" class=\"data row12 col3\" >-0.086866</td>\n",
       "      <td id=\"T_40eeb_row12_col4\" class=\"data row12 col4\" >-0.092809</td>\n",
       "      <td id=\"T_40eeb_row12_col5\" class=\"data row12 col5\" >-0.066423</td>\n",
       "      <td id=\"T_40eeb_row12_col6\" class=\"data row12 col6\" >-0.091712</td>\n",
       "      <td id=\"T_40eeb_row12_col7\" class=\"data row12 col7\" >0.101497</td>\n",
       "      <td id=\"T_40eeb_row12_col8\" class=\"data row12 col8\" >-0.091545</td>\n",
       "      <td id=\"T_40eeb_row12_col9\" class=\"data row12 col9\" >0.008674</td>\n",
       "      <td id=\"T_40eeb_row12_col10\" class=\"data row12 col10\" >0.078984</td>\n",
       "      <td id=\"T_40eeb_row12_col11\" class=\"data row12 col11\" >0.059816</td>\n",
       "      <td id=\"T_40eeb_row12_col12\" class=\"data row12 col12\" >1.000000</td>\n",
       "      <td id=\"T_40eeb_row12_col13\" class=\"data row12 col13\" >0.018025</td>\n",
       "      <td id=\"T_40eeb_row12_col14\" class=\"data row12 col14\" >0.093124</td>\n",
       "      <td id=\"T_40eeb_row12_col15\" class=\"data row12 col15\" >0.011009</td>\n",
       "      <td id=\"T_40eeb_row12_col16\" class=\"data row12 col16\" >-0.099305</td>\n",
       "    </tr>\n",
       "    <tr>\n",
       "      <th id=\"T_40eeb_level0_row13\" class=\"row_heading level0 row13\" >TUE</th>\n",
       "      <td id=\"T_40eeb_row13_col0\" class=\"data row13 col0\" >0.056490</td>\n",
       "      <td id=\"T_40eeb_row13_col1\" class=\"data row13 col1\" >-0.292343</td>\n",
       "      <td id=\"T_40eeb_row13_col2\" class=\"data row13 col2\" >0.069942</td>\n",
       "      <td id=\"T_40eeb_row13_col3\" class=\"data row13 col3\" >-0.089590</td>\n",
       "      <td id=\"T_40eeb_row13_col4\" class=\"data row13 col4\" >0.009705</td>\n",
       "      <td id=\"T_40eeb_row13_col5\" class=\"data row13 col5\" >0.034461</td>\n",
       "      <td id=\"T_40eeb_row13_col6\" class=\"data row13 col6\" >-0.152530</td>\n",
       "      <td id=\"T_40eeb_row13_col7\" class=\"data row13 col7\" >0.066190</td>\n",
       "      <td id=\"T_40eeb_row13_col8\" class=\"data row13 col8\" >-0.049765</td>\n",
       "      <td id=\"T_40eeb_row13_col9\" class=\"data row13 col9\" >-0.016274</td>\n",
       "      <td id=\"T_40eeb_row13_col10\" class=\"data row13 col10\" >-0.015324</td>\n",
       "      <td id=\"T_40eeb_row13_col11\" class=\"data row13 col11\" >-0.009113</td>\n",
       "      <td id=\"T_40eeb_row13_col12\" class=\"data row13 col12\" >0.018025</td>\n",
       "      <td id=\"T_40eeb_row13_col13\" class=\"data row13 col13\" >1.000000</td>\n",
       "      <td id=\"T_40eeb_row13_col14\" class=\"data row13 col14\" >0.084018</td>\n",
       "      <td id=\"T_40eeb_row13_col15\" class=\"data row13 col15\" >0.168037</td>\n",
       "      <td id=\"T_40eeb_row13_col16\" class=\"data row13 col16\" >-0.073528</td>\n",
       "    </tr>\n",
       "    <tr>\n",
       "      <th id=\"T_40eeb_level0_row14\" class=\"row_heading level0 row14\" >CALC</th>\n",
       "      <td id=\"T_40eeb_row14_col0\" class=\"data row14 col0\" >0.038924</td>\n",
       "      <td id=\"T_40eeb_row14_col1\" class=\"data row14 col1\" >-0.101535</td>\n",
       "      <td id=\"T_40eeb_row14_col2\" class=\"data row14 col2\" >-0.086695</td>\n",
       "      <td id=\"T_40eeb_row14_col3\" class=\"data row14 col3\" >-0.218114</td>\n",
       "      <td id=\"T_40eeb_row14_col4\" class=\"data row14 col4\" >0.000859</td>\n",
       "      <td id=\"T_40eeb_row14_col5\" class=\"data row14 col5\" >-0.080726</td>\n",
       "      <td id=\"T_40eeb_row14_col6\" class=\"data row14 col6\" >-0.130044</td>\n",
       "      <td id=\"T_40eeb_row14_col7\" class=\"data row14 col7\" >-0.100695</td>\n",
       "      <td id=\"T_40eeb_row14_col8\" class=\"data row14 col8\" >-0.070259</td>\n",
       "      <td id=\"T_40eeb_row14_col9\" class=\"data row14 col9\" >-0.022058</td>\n",
       "      <td id=\"T_40eeb_row14_col10\" class=\"data row14 col10\" >-0.081568</td>\n",
       "      <td id=\"T_40eeb_row14_col11\" class=\"data row14 col11\" >0.000402</td>\n",
       "      <td id=\"T_40eeb_row14_col12\" class=\"data row14 col12\" >0.093124</td>\n",
       "      <td id=\"T_40eeb_row14_col13\" class=\"data row14 col13\" >0.084018</td>\n",
       "      <td id=\"T_40eeb_row14_col14\" class=\"data row14 col14\" >1.000000</td>\n",
       "      <td id=\"T_40eeb_row14_col15\" class=\"data row14 col15\" >0.011041</td>\n",
       "      <td id=\"T_40eeb_row14_col16\" class=\"data row14 col16\" >-0.175998</td>\n",
       "    </tr>\n",
       "    <tr>\n",
       "      <th id=\"T_40eeb_level0_row15\" class=\"row_heading level0 row15\" >MTRANS</th>\n",
       "      <td id=\"T_40eeb_row15_col0\" class=\"data row15 col0\" >-0.149956</td>\n",
       "      <td id=\"T_40eeb_row15_col1\" class=\"data row15 col1\" >-0.579166</td>\n",
       "      <td id=\"T_40eeb_row15_col2\" class=\"data row15 col2\" >-0.068507</td>\n",
       "      <td id=\"T_40eeb_row15_col3\" class=\"data row15 col3\" >-0.013573</td>\n",
       "      <td id=\"T_40eeb_row15_col4\" class=\"data row15 col4\" >-0.104615</td>\n",
       "      <td id=\"T_40eeb_row15_col5\" class=\"data row15 col5\" >-0.030707</td>\n",
       "      <td id=\"T_40eeb_row15_col6\" class=\"data row15 col6\" >0.088224</td>\n",
       "      <td id=\"T_40eeb_row15_col7\" class=\"data row15 col7\" >-0.006084</td>\n",
       "      <td id=\"T_40eeb_row15_col8\" class=\"data row15 col8\" >-0.052322</td>\n",
       "      <td id=\"T_40eeb_row15_col9\" class=\"data row15 col9\" >-0.021442</td>\n",
       "      <td id=\"T_40eeb_row15_col10\" class=\"data row15 col10\" >0.063461</td>\n",
       "      <td id=\"T_40eeb_row15_col11\" class=\"data row15 col11\" >0.031624</td>\n",
       "      <td id=\"T_40eeb_row15_col12\" class=\"data row15 col12\" >0.011009</td>\n",
       "      <td id=\"T_40eeb_row15_col13\" class=\"data row15 col13\" >0.168037</td>\n",
       "      <td id=\"T_40eeb_row15_col14\" class=\"data row15 col14\" >0.011041</td>\n",
       "      <td id=\"T_40eeb_row15_col15\" class=\"data row15 col15\" >1.000000</td>\n",
       "      <td id=\"T_40eeb_row15_col16\" class=\"data row15 col16\" >-0.068034</td>\n",
       "    </tr>\n",
       "    <tr>\n",
       "      <th id=\"T_40eeb_level0_row16\" class=\"row_heading level0 row16\" >NObeyesdad</th>\n",
       "      <td id=\"T_40eeb_row16_col0\" class=\"data row16 col0\" >0.043517</td>\n",
       "      <td id=\"T_40eeb_row16_col1\" class=\"data row16 col1\" >0.286987</td>\n",
       "      <td id=\"T_40eeb_row16_col2\" class=\"data row16 col2\" >0.061422</td>\n",
       "      <td id=\"T_40eeb_row16_col3\" class=\"data row16 col3\" >0.437533</td>\n",
       "      <td id=\"T_40eeb_row16_col4\" class=\"data row16 col4\" >0.325005</td>\n",
       "      <td id=\"T_40eeb_row16_col5\" class=\"data row16 col5\" >0.013956</td>\n",
       "      <td id=\"T_40eeb_row16_col6\" class=\"data row16 col6\" >0.041753</td>\n",
       "      <td id=\"T_40eeb_row16_col7\" class=\"data row16 col7\" >-0.093327</td>\n",
       "      <td id=\"T_40eeb_row16_col8\" class=\"data row16 col8\" >0.302512</td>\n",
       "      <td id=\"T_40eeb_row16_col9\" class=\"data row16 col9\" >-0.001517</td>\n",
       "      <td id=\"T_40eeb_row16_col10\" class=\"data row16 col10\" >0.191671</td>\n",
       "      <td id=\"T_40eeb_row16_col11\" class=\"data row16 col11\" >-0.065052</td>\n",
       "      <td id=\"T_40eeb_row16_col12\" class=\"data row16 col12\" >-0.099305</td>\n",
       "      <td id=\"T_40eeb_row16_col13\" class=\"data row16 col13\" >-0.073528</td>\n",
       "      <td id=\"T_40eeb_row16_col14\" class=\"data row16 col14\" >-0.175998</td>\n",
       "      <td id=\"T_40eeb_row16_col15\" class=\"data row16 col15\" >-0.068034</td>\n",
       "      <td id=\"T_40eeb_row16_col16\" class=\"data row16 col16\" >1.000000</td>\n",
       "    </tr>\n",
       "  </tbody>\n",
       "</table>\n"
      ],
      "text/plain": [
       "<pandas.io.formats.style.Styler at 0x7bac93a047f0>"
      ]
     },
     "execution_count": 21,
     "metadata": {},
     "output_type": "execute_result"
    }
   ],
   "source": [
    "train.corr(numeric_only=True).style.background_gradient(cmap='Purples')"
   ]
  },
  {
   "cell_type": "code",
   "execution_count": 22,
   "id": "883bd48e",
   "metadata": {
    "execution": {
     "iopub.execute_input": "2024-02-13T13:27:05.266240Z",
     "iopub.status.busy": "2024-02-13T13:27:05.265646Z",
     "iopub.status.idle": "2024-02-13T13:27:05.272268Z",
     "shell.execute_reply": "2024-02-13T13:27:05.271312Z"
    },
    "papermill": {
     "duration": 0.029427,
     "end_time": "2024-02-13T13:27:05.274562",
     "exception": false,
     "start_time": "2024-02-13T13:27:05.245135",
     "status": "completed"
    },
    "tags": []
   },
   "outputs": [],
   "source": [
    "def Normalize(x, y):\n",
    "\tnormalize = MinMaxScaler()\n",
    "\tto_normalize = ['Gender', 'Age', 'Height', 'Weight', 'family_history_with_overweight',\n",
    "       'FAVC', 'FCVC', 'NCP', 'CAEC', 'SMOKE', 'CH2O', 'SCC', 'FAF', 'TUE', 'CALC', 'MTRANS']\n",
    "\tnormalize.fit(x[to_normalize])\n",
    "\tx[to_normalize] = normalize.transform(x[to_normalize])\n",
    "\ty[to_normalize] = normalize.transform(y[to_normalize])"
   ]
  },
  {
   "cell_type": "code",
   "execution_count": 23,
   "id": "bbaac7f4",
   "metadata": {
    "execution": {
     "iopub.execute_input": "2024-02-13T13:27:05.315326Z",
     "iopub.status.busy": "2024-02-13T13:27:05.314895Z",
     "iopub.status.idle": "2024-02-13T13:27:05.346829Z",
     "shell.execute_reply": "2024-02-13T13:27:05.345629Z"
    },
    "papermill": {
     "duration": 0.055739,
     "end_time": "2024-02-13T13:27:05.349794",
     "exception": false,
     "start_time": "2024-02-13T13:27:05.294055",
     "status": "completed"
    },
    "tags": []
   },
   "outputs": [],
   "source": [
    "Normalize(train, test)"
   ]
  },
  {
   "cell_type": "code",
   "execution_count": 24,
   "id": "64afe078",
   "metadata": {
    "execution": {
     "iopub.execute_input": "2024-02-13T13:27:05.389605Z",
     "iopub.status.busy": "2024-02-13T13:27:05.389170Z",
     "iopub.status.idle": "2024-02-13T13:27:05.415021Z",
     "shell.execute_reply": "2024-02-13T13:27:05.413580Z"
    },
    "papermill": {
     "duration": 0.048883,
     "end_time": "2024-02-13T13:27:05.417682",
     "exception": false,
     "start_time": "2024-02-13T13:27:05.368799",
     "status": "completed"
    },
    "tags": []
   },
   "outputs": [
    {
     "data": {
      "text/html": [
       "<div>\n",
       "<style scoped>\n",
       "    .dataframe tbody tr th:only-of-type {\n",
       "        vertical-align: middle;\n",
       "    }\n",
       "\n",
       "    .dataframe tbody tr th {\n",
       "        vertical-align: top;\n",
       "    }\n",
       "\n",
       "    .dataframe thead th {\n",
       "        text-align: right;\n",
       "    }\n",
       "</style>\n",
       "<table border=\"1\" class=\"dataframe\">\n",
       "  <thead>\n",
       "    <tr style=\"text-align: right;\">\n",
       "      <th></th>\n",
       "      <th>Gender</th>\n",
       "      <th>Age</th>\n",
       "      <th>Height</th>\n",
       "      <th>Weight</th>\n",
       "      <th>family_history_with_overweight</th>\n",
       "      <th>FAVC</th>\n",
       "      <th>FCVC</th>\n",
       "      <th>NCP</th>\n",
       "      <th>CAEC</th>\n",
       "      <th>SMOKE</th>\n",
       "      <th>CH2O</th>\n",
       "      <th>SCC</th>\n",
       "      <th>FAF</th>\n",
       "      <th>TUE</th>\n",
       "      <th>CALC</th>\n",
       "      <th>MTRANS</th>\n",
       "      <th>NObeyesdad</th>\n",
       "    </tr>\n",
       "  </thead>\n",
       "  <tbody>\n",
       "    <tr>\n",
       "      <th>1464</th>\n",
       "      <td>1.0</td>\n",
       "      <td>0.111851</td>\n",
       "      <td>0.804172</td>\n",
       "      <td>0.154692</td>\n",
       "      <td>0.0</td>\n",
       "      <td>1.0</td>\n",
       "      <td>0.5</td>\n",
       "      <td>0.666667</td>\n",
       "      <td>0.666667</td>\n",
       "      <td>0.0</td>\n",
       "      <td>0.500000</td>\n",
       "      <td>0.0</td>\n",
       "      <td>0.333333</td>\n",
       "      <td>0.500000</td>\n",
       "      <td>1.0</td>\n",
       "      <td>1.00</td>\n",
       "      <td>0</td>\n",
       "    </tr>\n",
       "    <tr>\n",
       "      <th>16064</th>\n",
       "      <td>0.0</td>\n",
       "      <td>0.186418</td>\n",
       "      <td>0.221147</td>\n",
       "      <td>0.095195</td>\n",
       "      <td>0.0</td>\n",
       "      <td>0.0</td>\n",
       "      <td>0.5</td>\n",
       "      <td>0.666667</td>\n",
       "      <td>0.666667</td>\n",
       "      <td>0.0</td>\n",
       "      <td>0.500000</td>\n",
       "      <td>0.0</td>\n",
       "      <td>0.000000</td>\n",
       "      <td>0.500000</td>\n",
       "      <td>0.5</td>\n",
       "      <td>0.75</td>\n",
       "      <td>1</td>\n",
       "    </tr>\n",
       "    <tr>\n",
       "      <th>6275</th>\n",
       "      <td>0.0</td>\n",
       "      <td>0.447402</td>\n",
       "      <td>0.386200</td>\n",
       "      <td>0.578523</td>\n",
       "      <td>1.0</td>\n",
       "      <td>1.0</td>\n",
       "      <td>1.0</td>\n",
       "      <td>0.666667</td>\n",
       "      <td>0.666667</td>\n",
       "      <td>0.0</td>\n",
       "      <td>0.787036</td>\n",
       "      <td>0.0</td>\n",
       "      <td>0.000000</td>\n",
       "      <td>0.047107</td>\n",
       "      <td>0.5</td>\n",
       "      <td>0.75</td>\n",
       "      <td>4</td>\n",
       "    </tr>\n",
       "  </tbody>\n",
       "</table>\n",
       "</div>"
      ],
      "text/plain": [
       "       Gender       Age    Height    Weight  family_history_with_overweight  \\\n",
       "1464      1.0  0.111851  0.804172  0.154692                             0.0   \n",
       "16064     0.0  0.186418  0.221147  0.095195                             0.0   \n",
       "6275      0.0  0.447402  0.386200  0.578523                             1.0   \n",
       "\n",
       "       FAVC  FCVC       NCP      CAEC  SMOKE      CH2O  SCC       FAF  \\\n",
       "1464    1.0   0.5  0.666667  0.666667    0.0  0.500000  0.0  0.333333   \n",
       "16064   0.0   0.5  0.666667  0.666667    0.0  0.500000  0.0  0.000000   \n",
       "6275    1.0   1.0  0.666667  0.666667    0.0  0.787036  0.0  0.000000   \n",
       "\n",
       "            TUE  CALC  MTRANS  NObeyesdad  \n",
       "1464   0.500000   1.0    1.00           0  \n",
       "16064  0.500000   0.5    0.75           1  \n",
       "6275   0.047107   0.5    0.75           4  "
      ]
     },
     "execution_count": 24,
     "metadata": {},
     "output_type": "execute_result"
    }
   ],
   "source": [
    "train.sample(3)"
   ]
  },
  {
   "cell_type": "markdown",
   "id": "5dc4d3b3",
   "metadata": {
    "papermill": {
     "duration": 0.019235,
     "end_time": "2024-02-13T13:27:05.456851",
     "exception": false,
     "start_time": "2024-02-13T13:27:05.437616",
     "status": "completed"
    },
    "tags": []
   },
   "source": [
    "# <div style= \"font-family: serif; font-weight:bold; letter-spacing: 0px; color:white; font-size:70%; text-align:left;padding:3.0px; background: orange; border-bottom: 6px solid darkred\"> 5. SPLIT TRAIN AND TEST DATA"
   ]
  },
  {
   "cell_type": "code",
   "execution_count": 25,
   "id": "61d1585f",
   "metadata": {
    "execution": {
     "iopub.execute_input": "2024-02-13T13:27:05.497238Z",
     "iopub.status.busy": "2024-02-13T13:27:05.496372Z",
     "iopub.status.idle": "2024-02-13T13:27:05.505014Z",
     "shell.execute_reply": "2024-02-13T13:27:05.503987Z"
    },
    "papermill": {
     "duration": 0.031895,
     "end_time": "2024-02-13T13:27:05.507836",
     "exception": false,
     "start_time": "2024-02-13T13:27:05.475941",
     "status": "completed"
    },
    "tags": []
   },
   "outputs": [],
   "source": [
    "X = train.drop('NObeyesdad', axis=1)\n",
    "Y = train['NObeyesdad']"
   ]
  },
  {
   "cell_type": "code",
   "execution_count": 26,
   "id": "69a9a681",
   "metadata": {
    "execution": {
     "iopub.execute_input": "2024-02-13T13:27:05.549493Z",
     "iopub.status.busy": "2024-02-13T13:27:05.549088Z",
     "iopub.status.idle": "2024-02-13T13:27:05.563170Z",
     "shell.execute_reply": "2024-02-13T13:27:05.561899Z"
    },
    "papermill": {
     "duration": 0.038901,
     "end_time": "2024-02-13T13:27:05.566202",
     "exception": false,
     "start_time": "2024-02-13T13:27:05.527301",
     "status": "completed"
    },
    "tags": []
   },
   "outputs": [],
   "source": [
    "x_train, x_test, y_train, y_test = train_test_split(X, Y, train_size=.8, random_state=42)"
   ]
  },
  {
   "cell_type": "code",
   "execution_count": 27,
   "id": "f0fe63d7",
   "metadata": {
    "execution": {
     "iopub.execute_input": "2024-02-13T13:27:05.606726Z",
     "iopub.status.busy": "2024-02-13T13:27:05.606339Z",
     "iopub.status.idle": "2024-02-13T13:27:05.616950Z",
     "shell.execute_reply": "2024-02-13T13:27:05.615465Z"
    },
    "papermill": {
     "duration": 0.034024,
     "end_time": "2024-02-13T13:27:05.619520",
     "exception": false,
     "start_time": "2024-02-13T13:27:05.585496",
     "status": "completed"
    },
    "tags": []
   },
   "outputs": [
    {
     "data": {
      "text/plain": [
       "NObeyesdad\n",
       "4    19.770494\n",
       "3    15.882317\n",
       "1    15.039980\n",
       "2    13.422450\n",
       "0    12.378685\n",
       "6    11.835439\n",
       "5    11.670634\n",
       "Name: count, dtype: float64"
      ]
     },
     "execution_count": 27,
     "metadata": {},
     "output_type": "execute_result"
    }
   ],
   "source": [
    "y_train.value_counts() / y_train.value_counts().sum() * 100"
   ]
  },
  {
   "cell_type": "markdown",
   "id": "891b3492",
   "metadata": {
    "papermill": {
     "duration": 0.019139,
     "end_time": "2024-02-13T13:27:05.658300",
     "exception": false,
     "start_time": "2024-02-13T13:27:05.639161",
     "status": "completed"
    },
    "tags": []
   },
   "source": [
    "# <div style= \"font-family: serif; font-weight:bold; letter-spacing: 0px; color:white; font-size:70%; text-align:left;padding:3.0px; background: orange; border-bottom: 6px solid darkred\"> 6. TRAINING AND EVALUATION OF RANDOM FOREST MODEL"
   ]
  },
  {
   "cell_type": "code",
   "execution_count": 28,
   "id": "6125a50c",
   "metadata": {
    "execution": {
     "iopub.execute_input": "2024-02-13T13:27:05.698882Z",
     "iopub.status.busy": "2024-02-13T13:27:05.698508Z",
     "iopub.status.idle": "2024-02-13T13:27:05.702902Z",
     "shell.execute_reply": "2024-02-13T13:27:05.701760Z"
    },
    "papermill": {
     "duration": 0.027813,
     "end_time": "2024-02-13T13:27:05.705463",
     "exception": false,
     "start_time": "2024-02-13T13:27:05.677650",
     "status": "completed"
    },
    "tags": []
   },
   "outputs": [],
   "source": [
    "from scipy.stats import randint as sp_randint"
   ]
  },
  {
   "cell_type": "code",
   "execution_count": 29,
   "id": "a84adb63",
   "metadata": {
    "execution": {
     "iopub.execute_input": "2024-02-13T13:27:05.746680Z",
     "iopub.status.busy": "2024-02-13T13:27:05.746247Z",
     "iopub.status.idle": "2024-02-13T13:27:05.756409Z",
     "shell.execute_reply": "2024-02-13T13:27:05.755275Z"
    },
    "papermill": {
     "duration": 0.033696,
     "end_time": "2024-02-13T13:27:05.758938",
     "exception": false,
     "start_time": "2024-02-13T13:27:05.725242",
     "status": "completed"
    },
    "tags": []
   },
   "outputs": [],
   "source": [
    "param_dist = {\n",
    "    'n_estimators': sp_randint(50, 200),\n",
    "    'max_depth': [None] + list(sp_randint(10, 30).rvs(9)),\n",
    "    'min_samples_split': sp_randint(2, 10),\n",
    "    'min_samples_leaf': sp_randint(1, 4),\n",
    "    'criterion': ['gini', 'entropy'],\n",
    "    'max_features': ['auto', 'sqrt', 'log2']\n",
    "}"
   ]
  },
  {
   "cell_type": "code",
   "execution_count": 30,
   "id": "082bee71",
   "metadata": {
    "execution": {
     "iopub.execute_input": "2024-02-13T13:27:05.800180Z",
     "iopub.status.busy": "2024-02-13T13:27:05.799741Z",
     "iopub.status.idle": "2024-02-13T13:27:05.805108Z",
     "shell.execute_reply": "2024-02-13T13:27:05.803684Z"
    },
    "papermill": {
     "duration": 0.02931,
     "end_time": "2024-02-13T13:27:05.807847",
     "exception": false,
     "start_time": "2024-02-13T13:27:05.778537",
     "status": "completed"
    },
    "tags": []
   },
   "outputs": [],
   "source": [
    "model_v1 = RandomForestClassifier()"
   ]
  },
  {
   "cell_type": "code",
   "execution_count": 31,
   "id": "8baff12d",
   "metadata": {
    "execution": {
     "iopub.execute_input": "2024-02-13T13:27:05.849664Z",
     "iopub.status.busy": "2024-02-13T13:27:05.849257Z",
     "iopub.status.idle": "2024-02-13T13:27:05.854445Z",
     "shell.execute_reply": "2024-02-13T13:27:05.853380Z"
    },
    "papermill": {
     "duration": 0.02914,
     "end_time": "2024-02-13T13:27:05.856943",
     "exception": false,
     "start_time": "2024-02-13T13:27:05.827803",
     "status": "completed"
    },
    "tags": []
   },
   "outputs": [],
   "source": [
    "random_search = RandomizedSearchCV(estimator=model_v1, \n",
    "\t\t\t\t\t\t\t\t   param_distributions=param_dist, \n",
    "\t\t\t\t\t\t\t\t   n_iter=20, \n",
    "\t\t\t\t\t\t\t\t   cv=5, \n",
    "\t\t\t\t\t\t\t\t   scoring='accuracy', \n",
    "\t\t\t\t\t\t\t\t   random_state=42)"
   ]
  },
  {
   "cell_type": "code",
   "execution_count": 32,
   "id": "4c7aabaa",
   "metadata": {
    "execution": {
     "iopub.execute_input": "2024-02-13T13:27:05.897537Z",
     "iopub.status.busy": "2024-02-13T13:27:05.897102Z",
     "iopub.status.idle": "2024-02-13T13:31:18.516240Z",
     "shell.execute_reply": "2024-02-13T13:31:18.514610Z"
    },
    "papermill": {
     "duration": 252.662523,
     "end_time": "2024-02-13T13:31:18.538869",
     "exception": false,
     "start_time": "2024-02-13T13:27:05.876346",
     "status": "completed"
    },
    "tags": []
   },
   "outputs": [
    {
     "data": {
      "text/html": [
       "<style>#sk-container-id-1 {color: black;background-color: white;}#sk-container-id-1 pre{padding: 0;}#sk-container-id-1 div.sk-toggleable {background-color: white;}#sk-container-id-1 label.sk-toggleable__label {cursor: pointer;display: block;width: 100%;margin-bottom: 0;padding: 0.3em;box-sizing: border-box;text-align: center;}#sk-container-id-1 label.sk-toggleable__label-arrow:before {content: \"▸\";float: left;margin-right: 0.25em;color: #696969;}#sk-container-id-1 label.sk-toggleable__label-arrow:hover:before {color: black;}#sk-container-id-1 div.sk-estimator:hover label.sk-toggleable__label-arrow:before {color: black;}#sk-container-id-1 div.sk-toggleable__content {max-height: 0;max-width: 0;overflow: hidden;text-align: left;background-color: #f0f8ff;}#sk-container-id-1 div.sk-toggleable__content pre {margin: 0.2em;color: black;border-radius: 0.25em;background-color: #f0f8ff;}#sk-container-id-1 input.sk-toggleable__control:checked~div.sk-toggleable__content {max-height: 200px;max-width: 100%;overflow: auto;}#sk-container-id-1 input.sk-toggleable__control:checked~label.sk-toggleable__label-arrow:before {content: \"▾\";}#sk-container-id-1 div.sk-estimator input.sk-toggleable__control:checked~label.sk-toggleable__label {background-color: #d4ebff;}#sk-container-id-1 div.sk-label input.sk-toggleable__control:checked~label.sk-toggleable__label {background-color: #d4ebff;}#sk-container-id-1 input.sk-hidden--visually {border: 0;clip: rect(1px 1px 1px 1px);clip: rect(1px, 1px, 1px, 1px);height: 1px;margin: -1px;overflow: hidden;padding: 0;position: absolute;width: 1px;}#sk-container-id-1 div.sk-estimator {font-family: monospace;background-color: #f0f8ff;border: 1px dotted black;border-radius: 0.25em;box-sizing: border-box;margin-bottom: 0.5em;}#sk-container-id-1 div.sk-estimator:hover {background-color: #d4ebff;}#sk-container-id-1 div.sk-parallel-item::after {content: \"\";width: 100%;border-bottom: 1px solid gray;flex-grow: 1;}#sk-container-id-1 div.sk-label:hover label.sk-toggleable__label {background-color: #d4ebff;}#sk-container-id-1 div.sk-serial::before {content: \"\";position: absolute;border-left: 1px solid gray;box-sizing: border-box;top: 0;bottom: 0;left: 50%;z-index: 0;}#sk-container-id-1 div.sk-serial {display: flex;flex-direction: column;align-items: center;background-color: white;padding-right: 0.2em;padding-left: 0.2em;position: relative;}#sk-container-id-1 div.sk-item {position: relative;z-index: 1;}#sk-container-id-1 div.sk-parallel {display: flex;align-items: stretch;justify-content: center;background-color: white;position: relative;}#sk-container-id-1 div.sk-item::before, #sk-container-id-1 div.sk-parallel-item::before {content: \"\";position: absolute;border-left: 1px solid gray;box-sizing: border-box;top: 0;bottom: 0;left: 50%;z-index: -1;}#sk-container-id-1 div.sk-parallel-item {display: flex;flex-direction: column;z-index: 1;position: relative;background-color: white;}#sk-container-id-1 div.sk-parallel-item:first-child::after {align-self: flex-end;width: 50%;}#sk-container-id-1 div.sk-parallel-item:last-child::after {align-self: flex-start;width: 50%;}#sk-container-id-1 div.sk-parallel-item:only-child::after {width: 0;}#sk-container-id-1 div.sk-dashed-wrapped {border: 1px dashed gray;margin: 0 0.4em 0.5em 0.4em;box-sizing: border-box;padding-bottom: 0.4em;background-color: white;}#sk-container-id-1 div.sk-label label {font-family: monospace;font-weight: bold;display: inline-block;line-height: 1.2em;}#sk-container-id-1 div.sk-label-container {text-align: center;}#sk-container-id-1 div.sk-container {/* jupyter's `normalize.less` sets `[hidden] { display: none; }` but bootstrap.min.css set `[hidden] { display: none !important; }` so we also need the `!important` here to be able to override the default hidden behavior on the sphinx rendered scikit-learn.org. See: https://github.com/scikit-learn/scikit-learn/issues/21755 */display: inline-block !important;position: relative;}#sk-container-id-1 div.sk-text-repr-fallback {display: none;}</style><div id=\"sk-container-id-1\" class=\"sk-top-container\"><div class=\"sk-text-repr-fallback\"><pre>RandomizedSearchCV(cv=5, estimator=RandomForestClassifier(), n_iter=20,\n",
       "                   param_distributions={&#x27;criterion&#x27;: [&#x27;gini&#x27;, &#x27;entropy&#x27;],\n",
       "                                        &#x27;max_depth&#x27;: [None, 14, 10, 10, 28, 23,\n",
       "                                                      26, 24, 11, 17],\n",
       "                                        &#x27;max_features&#x27;: [&#x27;auto&#x27;, &#x27;sqrt&#x27;,\n",
       "                                                         &#x27;log2&#x27;],\n",
       "                                        &#x27;min_samples_leaf&#x27;: &lt;scipy.stats._distn_infrastructure.rv_discrete_frozen object at 0x7bac92c47460&gt;,\n",
       "                                        &#x27;min_samples_split&#x27;: &lt;scipy.stats._distn_infrastructure.rv_discrete_frozen object at 0x7bac92c471f0&gt;,\n",
       "                                        &#x27;n_estimators&#x27;: &lt;scipy.stats._distn_infrastructure.rv_discrete_frozen object at 0x7bac92c475b0&gt;},\n",
       "                   random_state=42, scoring=&#x27;accuracy&#x27;)</pre><b>In a Jupyter environment, please rerun this cell to show the HTML representation or trust the notebook. <br />On GitHub, the HTML representation is unable to render, please try loading this page with nbviewer.org.</b></div><div class=\"sk-container\" hidden><div class=\"sk-item sk-dashed-wrapped\"><div class=\"sk-label-container\"><div class=\"sk-label sk-toggleable\"><input class=\"sk-toggleable__control sk-hidden--visually\" id=\"sk-estimator-id-1\" type=\"checkbox\" ><label for=\"sk-estimator-id-1\" class=\"sk-toggleable__label sk-toggleable__label-arrow\">RandomizedSearchCV</label><div class=\"sk-toggleable__content\"><pre>RandomizedSearchCV(cv=5, estimator=RandomForestClassifier(), n_iter=20,\n",
       "                   param_distributions={&#x27;criterion&#x27;: [&#x27;gini&#x27;, &#x27;entropy&#x27;],\n",
       "                                        &#x27;max_depth&#x27;: [None, 14, 10, 10, 28, 23,\n",
       "                                                      26, 24, 11, 17],\n",
       "                                        &#x27;max_features&#x27;: [&#x27;auto&#x27;, &#x27;sqrt&#x27;,\n",
       "                                                         &#x27;log2&#x27;],\n",
       "                                        &#x27;min_samples_leaf&#x27;: &lt;scipy.stats._distn_infrastructure.rv_discrete_frozen object at 0x7bac92c47460&gt;,\n",
       "                                        &#x27;min_samples_split&#x27;: &lt;scipy.stats._distn_infrastructure.rv_discrete_frozen object at 0x7bac92c471f0&gt;,\n",
       "                                        &#x27;n_estimators&#x27;: &lt;scipy.stats._distn_infrastructure.rv_discrete_frozen object at 0x7bac92c475b0&gt;},\n",
       "                   random_state=42, scoring=&#x27;accuracy&#x27;)</pre></div></div></div><div class=\"sk-parallel\"><div class=\"sk-parallel-item\"><div class=\"sk-item\"><div class=\"sk-label-container\"><div class=\"sk-label sk-toggleable\"><input class=\"sk-toggleable__control sk-hidden--visually\" id=\"sk-estimator-id-2\" type=\"checkbox\" ><label for=\"sk-estimator-id-2\" class=\"sk-toggleable__label sk-toggleable__label-arrow\">estimator: RandomForestClassifier</label><div class=\"sk-toggleable__content\"><pre>RandomForestClassifier()</pre></div></div></div><div class=\"sk-serial\"><div class=\"sk-item\"><div class=\"sk-estimator sk-toggleable\"><input class=\"sk-toggleable__control sk-hidden--visually\" id=\"sk-estimator-id-3\" type=\"checkbox\" ><label for=\"sk-estimator-id-3\" class=\"sk-toggleable__label sk-toggleable__label-arrow\">RandomForestClassifier</label><div class=\"sk-toggleable__content\"><pre>RandomForestClassifier()</pre></div></div></div></div></div></div></div></div></div></div>"
      ],
      "text/plain": [
       "RandomizedSearchCV(cv=5, estimator=RandomForestClassifier(), n_iter=20,\n",
       "                   param_distributions={'criterion': ['gini', 'entropy'],\n",
       "                                        'max_depth': [None, 14, 10, 10, 28, 23,\n",
       "                                                      26, 24, 11, 17],\n",
       "                                        'max_features': ['auto', 'sqrt',\n",
       "                                                         'log2'],\n",
       "                                        'min_samples_leaf': <scipy.stats._distn_infrastructure.rv_discrete_frozen object at 0x7bac92c47460>,\n",
       "                                        'min_samples_split': <scipy.stats._distn_infrastructure.rv_discrete_frozen object at 0x7bac92c471f0>,\n",
       "                                        'n_estimators': <scipy.stats._distn_infrastructure.rv_discrete_frozen object at 0x7bac92c475b0>},\n",
       "                   random_state=42, scoring='accuracy')"
      ]
     },
     "execution_count": 32,
     "metadata": {},
     "output_type": "execute_result"
    }
   ],
   "source": [
    "random_search.fit(x_train, y_train)"
   ]
  },
  {
   "cell_type": "code",
   "execution_count": 33,
   "id": "8cba23de",
   "metadata": {
    "execution": {
     "iopub.execute_input": "2024-02-13T13:31:18.584545Z",
     "iopub.status.busy": "2024-02-13T13:31:18.584086Z",
     "iopub.status.idle": "2024-02-13T13:31:18.590428Z",
     "shell.execute_reply": "2024-02-13T13:31:18.589206Z"
    },
    "papermill": {
     "duration": 0.033907,
     "end_time": "2024-02-13T13:31:18.592855",
     "exception": false,
     "start_time": "2024-02-13T13:31:18.558948",
     "status": "completed"
    },
    "tags": []
   },
   "outputs": [
    {
     "name": "stdout",
     "output_type": "stream",
     "text": [
      "Best params: {'criterion': 'gini', 'max_depth': 26, 'max_features': 'auto', 'min_samples_leaf': 1, 'min_samples_split': 5, 'n_estimators': 185}\n"
     ]
    }
   ],
   "source": [
    "best_params = random_search.best_params_\n",
    "print(\"Best params:\", best_params)"
   ]
  },
  {
   "cell_type": "code",
   "execution_count": 34,
   "id": "6bbbe839",
   "metadata": {
    "execution": {
     "iopub.execute_input": "2024-02-13T13:31:18.636656Z",
     "iopub.status.busy": "2024-02-13T13:31:18.635520Z",
     "iopub.status.idle": "2024-02-13T13:31:18.824944Z",
     "shell.execute_reply": "2024-02-13T13:31:18.823801Z"
    },
    "papermill": {
     "duration": 0.213891,
     "end_time": "2024-02-13T13:31:18.827918",
     "exception": false,
     "start_time": "2024-02-13T13:31:18.614027",
     "status": "completed"
    },
    "tags": []
   },
   "outputs": [],
   "source": [
    "y_pred = random_search.predict(x_test)"
   ]
  },
  {
   "cell_type": "code",
   "execution_count": 35,
   "id": "7dbe5282",
   "metadata": {
    "execution": {
     "iopub.execute_input": "2024-02-13T13:31:18.870967Z",
     "iopub.status.busy": "2024-02-13T13:31:18.870084Z",
     "iopub.status.idle": "2024-02-13T13:31:18.878380Z",
     "shell.execute_reply": "2024-02-13T13:31:18.876688Z"
    },
    "papermill": {
     "duration": 0.032548,
     "end_time": "2024-02-13T13:31:18.881039",
     "exception": false,
     "start_time": "2024-02-13T13:31:18.848491",
     "status": "completed"
    },
    "tags": []
   },
   "outputs": [
    {
     "name": "stdout",
     "output_type": "stream",
     "text": [
      "Accuracy: 0.89794921875\n"
     ]
    }
   ],
   "source": [
    "accuracy = accuracy_score(y_test, y_pred)\n",
    "print(\"Accuracy:\", accuracy)"
   ]
  },
  {
   "cell_type": "code",
   "execution_count": 36,
   "id": "d3fdbfb4",
   "metadata": {
    "execution": {
     "iopub.execute_input": "2024-02-13T13:31:18.924544Z",
     "iopub.status.busy": "2024-02-13T13:31:18.923859Z",
     "iopub.status.idle": "2024-02-13T13:31:19.400305Z",
     "shell.execute_reply": "2024-02-13T13:31:19.399147Z"
    },
    "papermill": {
     "duration": 0.501256,
     "end_time": "2024-02-13T13:31:19.403151",
     "exception": false,
     "start_time": "2024-02-13T13:31:18.901895",
     "status": "completed"
    },
    "tags": []
   },
   "outputs": [],
   "source": [
    "y_pred_sub = random_search.predict(test)"
   ]
  },
  {
   "cell_type": "code",
   "execution_count": 37,
   "id": "2c277fc7",
   "metadata": {
    "execution": {
     "iopub.execute_input": "2024-02-13T13:31:19.446262Z",
     "iopub.status.busy": "2024-02-13T13:31:19.445557Z",
     "iopub.status.idle": "2024-02-13T13:31:19.451144Z",
     "shell.execute_reply": "2024-02-13T13:31:19.449882Z"
    },
    "papermill": {
     "duration": 0.030062,
     "end_time": "2024-02-13T13:31:19.453662",
     "exception": false,
     "start_time": "2024-02-13T13:31:19.423600",
     "status": "completed"
    },
    "tags": []
   },
   "outputs": [],
   "source": [
    "y_pred_sub = Encoder_Target.inverse_transform(y_pred_sub)"
   ]
  },
  {
   "cell_type": "code",
   "execution_count": 38,
   "id": "b08af89a",
   "metadata": {
    "execution": {
     "iopub.execute_input": "2024-02-13T13:31:19.496464Z",
     "iopub.status.busy": "2024-02-13T13:31:19.495834Z",
     "iopub.status.idle": "2024-02-13T13:31:19.552385Z",
     "shell.execute_reply": "2024-02-13T13:31:19.551322Z"
    },
    "papermill": {
     "duration": 0.081141,
     "end_time": "2024-02-13T13:31:19.555346",
     "exception": false,
     "start_time": "2024-02-13T13:31:19.474205",
     "status": "completed"
    },
    "tags": []
   },
   "outputs": [],
   "source": [
    "test_Id  = pd.read_csv('/kaggle/input/playground-series-s4e2/test.csv')"
   ]
  },
  {
   "cell_type": "code",
   "execution_count": 39,
   "id": "c6e44c99",
   "metadata": {
    "execution": {
     "iopub.execute_input": "2024-02-13T13:31:19.599911Z",
     "iopub.status.busy": "2024-02-13T13:31:19.599487Z",
     "iopub.status.idle": "2024-02-13T13:31:19.606207Z",
     "shell.execute_reply": "2024-02-13T13:31:19.604907Z"
    },
    "papermill": {
     "duration": 0.031896,
     "end_time": "2024-02-13T13:31:19.608988",
     "exception": false,
     "start_time": "2024-02-13T13:31:19.577092",
     "status": "completed"
    },
    "tags": []
   },
   "outputs": [],
   "source": [
    "output = pd.DataFrame({\n",
    "\t'id': test_Id['id'],\n",
    "\t'NObeyesdad': y_pred_sub})"
   ]
  },
  {
   "cell_type": "code",
   "execution_count": 40,
   "id": "2bfdba5c",
   "metadata": {
    "execution": {
     "iopub.execute_input": "2024-02-13T13:31:19.654176Z",
     "iopub.status.busy": "2024-02-13T13:31:19.653754Z",
     "iopub.status.idle": "2024-02-13T13:31:19.659180Z",
     "shell.execute_reply": "2024-02-13T13:31:19.657562Z"
    },
    "papermill": {
     "duration": 0.031799,
     "end_time": "2024-02-13T13:31:19.661899",
     "exception": false,
     "start_time": "2024-02-13T13:31:19.630100",
     "status": "completed"
    },
    "tags": []
   },
   "outputs": [],
   "source": [
    "#submission = output.to_csv('submission.csv', index=False)"
   ]
  }
 ],
 "metadata": {
  "kaggle": {
   "accelerator": "none",
   "dataSources": [
    {
     "databundleVersionId": 7609535,
     "sourceId": 68479,
     "sourceType": "competition"
    }
   ],
   "dockerImageVersionId": 30646,
   "isGpuEnabled": false,
   "isInternetEnabled": true,
   "language": "python",
   "sourceType": "notebook"
  },
  "kernelspec": {
   "display_name": "Python 3",
   "language": "python",
   "name": "python3"
  },
  "language_info": {
   "codemirror_mode": {
    "name": "ipython",
    "version": 3
   },
   "file_extension": ".py",
   "mimetype": "text/x-python",
   "name": "python",
   "nbconvert_exporter": "python",
   "pygments_lexer": "ipython3",
   "version": "3.10.13"
  },
  "papermill": {
   "default_parameters": {},
   "duration": 267.835799,
   "end_time": "2024-02-13T13:31:20.406768",
   "environment_variables": {},
   "exception": null,
   "input_path": "__notebook__.ipynb",
   "output_path": "__notebook__.ipynb",
   "parameters": {},
   "start_time": "2024-02-13T13:26:52.570969",
   "version": "2.5.0"
  }
 },
 "nbformat": 4,
 "nbformat_minor": 5
}
